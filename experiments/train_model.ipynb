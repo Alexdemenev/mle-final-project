{
 "cells": [
  {
   "cell_type": "code",
   "execution_count": 1,
   "id": "0dde1d49",
   "metadata": {},
   "outputs": [],
   "source": [
    "import pandas as pd\n",
    "import numpy as np\n",
    "import matplotlib.pyplot as plt\n",
    "import seaborn as sns\n",
    "import requests\n",
    "from datetime import datetime as dt\n",
    "import boto3\n",
    "from io import BytesIO\n",
    "import pickle\n",
    "import os\n",
    "from dotenv import load_dotenv\n",
    "import scipy\n",
    "from sklearn.preprocessing import LabelEncoder\n",
    "from implicit.als import AlternatingLeastSquares\n",
    "from sklearn.preprocessing import MinMaxScaler\n",
    "\n",
    "plt.style.use('ggplot')\n",
    "\n"
   ]
  },
  {
   "cell_type": "code",
   "execution_count": 2,
   "id": "e7b84f4d",
   "metadata": {},
   "outputs": [],
   "source": [
    "load_dotenv()\n",
    "\n",
    "S3_BUCKET_NAME=os.getenv(\"S3_BUCKET_NAME\")\n",
    "AWS_ACCESS_KEY_ID=os.getenv(\"AWS_ACCESS_KEY_ID\")\n",
    "AWS_SECRET_ACCESS_KEY=os.getenv(\"AWS_SECRET_ACCESS_KEY\")"
   ]
  },
  {
   "cell_type": "code",
   "execution_count": 6,
   "id": "98516fa7",
   "metadata": {},
   "outputs": [],
   "source": [
    "# определение функций для работы с s3\n",
    "def upload_to_s3(df, file_name):\n",
    "    s3_client = boto3.client(\n",
    "        \"s3\",\n",
    "        endpoint_url='https://storage.yandexcloud.net',\n",
    "        aws_access_key_id=AWS_ACCESS_KEY_ID,\n",
    "        aws_secret_access_key=AWS_SECRET_ACCESS_KEY,\n",
    "    )\n",
    "    \n",
    "    with BytesIO() as buffer:\n",
    "        df.to_parquet(buffer)\n",
    "        buffer.seek(0)\n",
    "        s3_client.upload_fileobj(buffer, S3_BUCKET_NAME, file_name)\n",
    "    \n",
    "    \n",
    "def download_from_s3(file_name) -> pd.DataFrame:\n",
    "    s3_client = boto3.client(\n",
    "        \"s3\",\n",
    "        endpoint_url='https://storage.yandexcloud.net',\n",
    "        aws_access_key_id=AWS_ACCESS_KEY_ID,\n",
    "        aws_secret_access_key=AWS_SECRET_ACCESS_KEY,\n",
    "    )\n",
    "    with BytesIO() as buffer:\n",
    "        s3_client.download_fileobj(S3_BUCKET_NAME, file_name, buffer)\n",
    "        buffer.seek(0)\n",
    "        return pd.read_parquet(buffer)\n",
    "    \n",
    "    \n",
    "def upload_pickle_to_s3(object, file_name):\n",
    "    s3_client = boto3.client(\n",
    "        \"s3\",\n",
    "        endpoint_url='https://storage.yandexcloud.net',\n",
    "        aws_access_key_id=AWS_ACCESS_KEY_ID,\n",
    "        aws_secret_access_key=AWS_SECRET_ACCESS_KEY,\n",
    "    )\n",
    "    with BytesIO() as buffer:\n",
    "        pickle.dump(object, buffer)\n",
    "        buffer.seek(0)\n",
    "        s3_client.upload_fileobj(buffer, S3_BUCKET_NAME, file_name)\n",
    "        \n",
    "def download_pickle_from_s3(file_name):\n",
    "    s3_client = boto3.client(\n",
    "        \"s3\",\n",
    "        endpoint_url='https://storage.yandexcloud.net',\n",
    "        aws_access_key_id=AWS_ACCESS_KEY_ID,\n",
    "        aws_secret_access_key=AWS_SECRET_ACCESS_KEY,\n",
    "    )\n",
    "    with BytesIO() as buffer:\n",
    "        s3_client.download_fileobj(S3_BUCKET_NAME, file_name, buffer)\n",
    "        buffer.seek(0)\n",
    "        return pickle.load(buffer)"
   ]
  },
  {
   "cell_type": "markdown",
   "id": "10b16718",
   "metadata": {},
   "source": [
    "## Выгрузка данных"
   ]
  },
  {
   "cell_type": "code",
   "execution_count": 4,
   "id": "25227168",
   "metadata": {},
   "outputs": [],
   "source": [
    "train_data = download_from_s3(\"train_data.parquet\")\n",
    "test_data = download_from_s3(\"test_data.parquet\")\n"
   ]
  },
  {
   "cell_type": "code",
   "execution_count": 5,
   "id": "cd93ccae",
   "metadata": {},
   "outputs": [],
   "source": [
    "target_cols = [col for col in train_data.columns if col.startswith('acc_')]"
   ]
  },
  {
   "cell_type": "markdown",
   "id": "3274ae11",
   "metadata": {},
   "source": [
    "## Baseline model  \n",
    "Первый вариант модели с использованием только данных о взаимодействии клиентов с объектами"
   ]
  },
  {
   "cell_type": "code",
   "execution_count": null,
   "id": "47aac1b2",
   "metadata": {},
   "outputs": [],
   "source": []
  },
  {
   "cell_type": "code",
   "execution_count": 6,
   "id": "786ff524",
   "metadata": {},
   "outputs": [],
   "source": [
    "client_enc = LabelEncoder()"
   ]
  },
  {
   "cell_type": "code",
   "execution_count": 25,
   "id": "d0f6f3db",
   "metadata": {},
   "outputs": [],
   "source": [
    "train_data['max_date'] = train_data['div_data'].max()\n",
    "test_data['max_date'] = test_data['div_data'].max()\n",
    "\n",
    "train_data['days_from_max_date'] = (train_data['max_date'] - train_data['div_data']).dt.days\n",
    "test_data['days_from_max_date'] = (test_data['max_date'] - test_data['div_data']).dt.days\n",
    "\n",
    "train_data['days_from_max_date'] = train_data['days_from_max_date'].astype(int)\n",
    "test_data['days_from_max_date'] = test_data['days_from_max_date'].astype(int)\n",
    "\n",
    "train_data['weight'] = train_data['days_from_max_date'] / train_data['days_from_max_date'].max()\n",
    "test_data['weight'] = test_data['days_from_max_date'] / test_data['days_from_max_date'].max()\n"
   ]
  },
  {
   "cell_type": "code",
   "execution_count": 28,
   "id": "0d4fc05d",
   "metadata": {},
   "outputs": [],
   "source": [
    "for target in target_cols:\n",
    "    train_data[target] = train_data[target] * train_data['weight']\n",
    "    test_data[target] = test_data[target] * test_data['weight']"
   ]
  },
  {
   "cell_type": "code",
   "execution_count": 30,
   "id": "2ba6ec32",
   "metadata": {},
   "outputs": [
    {
     "name": "stderr",
     "output_type": "stream",
     "text": [
      "/tmp/ipykernel_1949/3143459088.py:2: SettingWithCopyWarning: \n",
      "A value is trying to be set on a copy of a slice from a DataFrame.\n",
      "Try using .loc[row_indexer,col_indexer] = value instead\n",
      "\n",
      "See the caveats in the documentation: https://pandas.pydata.org/pandas-docs/stable/user_guide/indexing.html#returning-a-view-versus-a-copy\n",
      "  interaction_matrix['client_id'] = client_enc.fit_transform(interaction_matrix['client_id'])\n"
     ]
    }
   ],
   "source": [
    "interaction_matrix = train_data[['client_id'] + target_cols]\n",
    "interaction_matrix['client_id'] = client_enc.fit_transform(interaction_matrix['client_id'])\n",
    "\n",
    "interaction_matrix = interaction_matrix.groupby('client_id').sum().reset_index()"
   ]
  },
  {
   "cell_type": "code",
   "execution_count": 32,
   "id": "b2f6aa1c",
   "metadata": {},
   "outputs": [
    {
     "data": {
      "text/plain": [
       "(927690, 25)"
      ]
     },
     "execution_count": 32,
     "metadata": {},
     "output_type": "execute_result"
    }
   ],
   "source": [
    "interaction_matrix.shape"
   ]
  },
  {
   "cell_type": "code",
   "execution_count": 33,
   "id": "d8f14311",
   "metadata": {},
   "outputs": [],
   "source": [
    "acc_to_id = {acc: id for id, acc in enumerate(target_cols)}\n",
    "id_to_acc = {id: acc for id, acc in enumerate(target_cols)}"
   ]
  },
  {
   "cell_type": "code",
   "execution_count": 34,
   "id": "74eaf824",
   "metadata": {},
   "outputs": [
    {
     "data": {
      "text/plain": [
       "(927690, 25)"
      ]
     },
     "execution_count": 34,
     "metadata": {},
     "output_type": "execute_result"
    }
   ],
   "source": [
    "interaction_matrix.shape"
   ]
  },
  {
   "cell_type": "code",
   "execution_count": 35,
   "id": "938d6431",
   "metadata": {},
   "outputs": [],
   "source": [
    "interaction_matrix['accounts'] = [[targets] for targets in interaction_matrix[target_cols].values]\n",
    "interaction_matrix['accounts'] = interaction_matrix['accounts'].apply(lambda x: x[0])\n",
    "interaction_matrix['accounts_name'] = [list(id_to_acc.keys())] * interaction_matrix.shape[0]"
   ]
  },
  {
   "cell_type": "code",
   "execution_count": null,
   "id": "d1ebf654",
   "metadata": {},
   "outputs": [],
   "source": [
    "interaction_matrix = interaction_matrix[['client_id', 'accounts', 'accounts_name']]\n",
    "del train_data\n"
   ]
  },
  {
   "cell_type": "code",
   "execution_count": 37,
   "id": "6205632b",
   "metadata": {},
   "outputs": [
    {
     "data": {
      "text/plain": [
       "(927690, 3)"
      ]
     },
     "execution_count": 37,
     "metadata": {},
     "output_type": "execute_result"
    }
   ],
   "source": [
    "interaction_matrix.shape"
   ]
  },
  {
   "cell_type": "code",
   "execution_count": 38,
   "id": "62255822",
   "metadata": {},
   "outputs": [
    {
     "data": {
      "text/html": [
       "<div>\n",
       "<style scoped>\n",
       "    .dataframe tbody tr th:only-of-type {\n",
       "        vertical-align: middle;\n",
       "    }\n",
       "\n",
       "    .dataframe tbody tr th {\n",
       "        vertical-align: top;\n",
       "    }\n",
       "\n",
       "    .dataframe thead th {\n",
       "        text-align: right;\n",
       "    }\n",
       "</style>\n",
       "<table border=\"1\" class=\"dataframe\">\n",
       "  <thead>\n",
       "    <tr style=\"text-align: right;\">\n",
       "      <th></th>\n",
       "      <th>client_id</th>\n",
       "      <th>account</th>\n",
       "      <th>account_name</th>\n",
       "    </tr>\n",
       "  </thead>\n",
       "  <tbody>\n",
       "    <tr>\n",
       "      <th>0</th>\n",
       "      <td>0</td>\n",
       "      <td>0.000000</td>\n",
       "      <td>0</td>\n",
       "    </tr>\n",
       "    <tr>\n",
       "      <th>1</th>\n",
       "      <td>0</td>\n",
       "      <td>0.000000</td>\n",
       "      <td>1</td>\n",
       "    </tr>\n",
       "    <tr>\n",
       "      <th>2</th>\n",
       "      <td>0</td>\n",
       "      <td>6.526027</td>\n",
       "      <td>2</td>\n",
       "    </tr>\n",
       "    <tr>\n",
       "      <th>3</th>\n",
       "      <td>0</td>\n",
       "      <td>0.000000</td>\n",
       "      <td>3</td>\n",
       "    </tr>\n",
       "    <tr>\n",
       "      <th>4</th>\n",
       "      <td>0</td>\n",
       "      <td>0.000000</td>\n",
       "      <td>4</td>\n",
       "    </tr>\n",
       "  </tbody>\n",
       "</table>\n",
       "</div>"
      ],
      "text/plain": [
       "   client_id   account  account_name\n",
       "0          0  0.000000             0\n",
       "1          0  0.000000             1\n",
       "2          0  6.526027             2\n",
       "3          0  0.000000             3\n",
       "4          0  0.000000             4"
      ]
     },
     "execution_count": 38,
     "metadata": {},
     "output_type": "execute_result"
    }
   ],
   "source": [
    "# interaction_matrix = interaction_matrix[['client_id', 'accounts', 'accounts_name']].explode(['accounts', 'accounts_name'])\n",
    "\n",
    "interaction_matrix_exploded = list()\n",
    "interaction_matrix = interaction_matrix.values\n",
    "\n",
    "for row in interaction_matrix:\n",
    "    accounts = row[1]\n",
    "    accounts_name = row[2]\n",
    "    client_id = row[0]\n",
    "    for account, account_name in zip(accounts, accounts_name):\n",
    "        interaction_matrix_exploded.append((client_id, account, account_name))\n",
    "\n",
    "interaction_matrix_exploded = pd.DataFrame(interaction_matrix_exploded, columns=['client_id', 'account', 'account_name'])\n",
    "interaction_matrix_exploded.head()"
   ]
  },
  {
   "cell_type": "code",
   "execution_count": 87,
   "id": "ed52348c",
   "metadata": {},
   "outputs": [],
   "source": [
    "scaler = MinMaxScaler()"
   ]
  },
  {
   "cell_type": "code",
   "execution_count": 89,
   "id": "2109901d",
   "metadata": {},
   "outputs": [],
   "source": [
    "interaction_matrix_exploded['account'] = scaler.fit_transform(interaction_matrix_exploded[['account']])"
   ]
  },
  {
   "cell_type": "code",
   "execution_count": 90,
   "id": "bdef2f4e",
   "metadata": {},
   "outputs": [],
   "source": [
    "# создаём sparse-матрицу формата CSR \n",
    "user_item_matrix_train = scipy.sparse.csr_matrix((\n",
    "    interaction_matrix_exploded[\"account\"],\n",
    "    (interaction_matrix_exploded['client_id'], interaction_matrix_exploded['account_name'])),\n",
    "    dtype=np.int8)"
   ]
  },
  {
   "cell_type": "code",
   "execution_count": 91,
   "id": "54110866",
   "metadata": {},
   "outputs": [
    {
     "data": {
      "application/vnd.jupyter.widget-view+json": {
       "model_id": "35bb13bf20c74d44885f5a3e56f56097",
       "version_major": 2,
       "version_minor": 0
      },
      "text/plain": [
       "  0%|          | 0/50 [00:00<?, ?it/s]"
      ]
     },
     "metadata": {},
     "output_type": "display_data"
    }
   ],
   "source": [
    "als_model = AlternatingLeastSquares(factors=50, iterations=50, regularization=0.05, random_state=0)\n",
    "als_model.fit(user_item_matrix_train)"
   ]
  },
  {
   "cell_type": "code",
   "execution_count": 92,
   "id": "d6a876c0",
   "metadata": {},
   "outputs": [],
   "source": [
    "MODELS_DIR = \"../models\"\n",
    "os.makedirs(MODELS_DIR, exist_ok=True)\n",
    "\n",
    "with open(os.path.join(MODELS_DIR, 'als_model.pkl'), 'wb') as f:\n",
    "    pickle.dump(als_model, f)"
   ]
  },
  {
   "cell_type": "markdown",
   "id": "9ec57769",
   "metadata": {},
   "source": [
    "## Model evaluation"
   ]
  },
  {
   "cell_type": "code",
   "execution_count": null,
   "id": "13d991a3",
   "metadata": {},
   "outputs": [],
   "source": []
  },
  {
   "cell_type": "code",
   "execution_count": 50,
   "id": "da0de4e3",
   "metadata": {},
   "outputs": [
    {
     "data": {
      "text/plain": [
       "array([  15889,   15890,   15891, ..., 1528594, 1528597, 1528598])"
      ]
     },
     "execution_count": 50,
     "metadata": {},
     "output_type": "execute_result"
    }
   ],
   "source": [
    "client_enc.classes_"
   ]
  },
  {
   "cell_type": "code",
   "execution_count": 73,
   "id": "ac37c2bf",
   "metadata": {},
   "outputs": [
    {
     "data": {
      "text/plain": [
       "{0: 'acc_savings',\n",
       " 1: 'acc_garant',\n",
       " 2: 'acc_current',\n",
       " 3: 'acc_derivative',\n",
       " 4: 'acc_salary',\n",
       " 5: 'acc_child',\n",
       " 6: 'acc_spec3',\n",
       " 7: 'acc_spec1',\n",
       " 8: 'acc_spec2',\n",
       " 9: 'acc_short_deposit',\n",
       " 10: 'acc_middle_deposit',\n",
       " 11: 'acc_long_deposit',\n",
       " 12: 'acc_digital',\n",
       " 13: 'acc_cash',\n",
       " 14: 'acc_mortgage',\n",
       " 15: 'acc_pension',\n",
       " 16: 'acc_credit',\n",
       " 17: 'acc_tax',\n",
       " 18: 'acc_credit_cart',\n",
       " 19: 'acc_securities',\n",
       " 20: 'acc_home',\n",
       " 21: 'acc_salary_payment',\n",
       " 22: 'acc_pension_loans',\n",
       " 23: 'acc_debit'}"
      ]
     },
     "execution_count": 73,
     "metadata": {},
     "output_type": "execute_result"
    }
   ],
   "source": [
    "id_to_acc"
   ]
  },
  {
   "cell_type": "code",
   "execution_count": null,
   "id": "5c53cb80",
   "metadata": {},
   "outputs": [],
   "source": [
    "test_clients = [client for client in test_data['client_id'].unique() if client in client_enc.classes_]\n",
    "test_clients_encoded = client_enc.transform(test_clients)\n",
    "recommendations = als_model.recommend(test_clients_encoded, user_item_matrix_train[test_clients_encoded], filter_already_liked_items=False, N=24)"
   ]
  },
  {
   "cell_type": "code",
   "execution_count": 82,
   "id": "96fddbfb",
   "metadata": {},
   "outputs": [
    {
     "data": {
      "text/html": [
       "<div>\n",
       "<style scoped>\n",
       "    .dataframe tbody tr th:only-of-type {\n",
       "        vertical-align: middle;\n",
       "    }\n",
       "\n",
       "    .dataframe tbody tr th {\n",
       "        vertical-align: top;\n",
       "    }\n",
       "\n",
       "    .dataframe thead th {\n",
       "        text-align: right;\n",
       "    }\n",
       "</style>\n",
       "<table border=\"1\" class=\"dataframe\">\n",
       "  <thead>\n",
       "    <tr style=\"text-align: right;\">\n",
       "      <th></th>\n",
       "      <th>client_id</th>\n",
       "      <th>recommendations</th>\n",
       "      <th>scores</th>\n",
       "    </tr>\n",
       "  </thead>\n",
       "  <tbody>\n",
       "    <tr>\n",
       "      <th>0</th>\n",
       "      <td>748902</td>\n",
       "      <td>[5, 1, 0, 2, 18, 13, 19, 23, 10, 11, 14, 8, 20...</td>\n",
       "      <td>[32.418354, 4.405583, 1.3980354, 1.0063871, 0....</td>\n",
       "    </tr>\n",
       "    <tr>\n",
       "      <th>1</th>\n",
       "      <td>748905</td>\n",
       "      <td>[5, 1, 2, 0, 18, 13, 19, 23, 10, 11, 14, 8, 16...</td>\n",
       "      <td>[65.14697, 3.6002274, 1.0016865, 0.519425, 0.4...</td>\n",
       "    </tr>\n",
       "    <tr>\n",
       "      <th>2</th>\n",
       "      <td>748901</td>\n",
       "      <td>[1, 0, 2, 18, 13, 19, 23, 10, 11, 8, 14, 20, 1...</td>\n",
       "      <td>[6.3429184, 2.8707366, 1.0043808, 0.48903415, ...</td>\n",
       "    </tr>\n",
       "    <tr>\n",
       "      <th>3</th>\n",
       "      <td>748906</td>\n",
       "      <td>[5, 1, 2, 18, 13, 19, 23, 10, 11, 14, 8, 20, 1...</td>\n",
       "      <td>[44.160313, 3.9788911, 1.0003324, 0.48993433, ...</td>\n",
       "    </tr>\n",
       "    <tr>\n",
       "      <th>4</th>\n",
       "      <td>748903</td>\n",
       "      <td>[5, 1, 0, 2, 18, 13, 19, 23, 10, 11, 14, 8, 16...</td>\n",
       "      <td>[28.635057, 6.1044326, 2.0895166, 1.0013279, 0...</td>\n",
       "    </tr>\n",
       "  </tbody>\n",
       "</table>\n",
       "</div>"
      ],
      "text/plain": [
       "   client_id                                    recommendations   \n",
       "0     748902  [5, 1, 0, 2, 18, 13, 19, 23, 10, 11, 14, 8, 20...  \\\n",
       "1     748905  [5, 1, 2, 0, 18, 13, 19, 23, 10, 11, 14, 8, 16...   \n",
       "2     748901  [1, 0, 2, 18, 13, 19, 23, 10, 11, 8, 14, 20, 1...   \n",
       "3     748906  [5, 1, 2, 18, 13, 19, 23, 10, 11, 14, 8, 20, 1...   \n",
       "4     748903  [5, 1, 0, 2, 18, 13, 19, 23, 10, 11, 14, 8, 16...   \n",
       "\n",
       "                                              scores  \n",
       "0  [32.418354, 4.405583, 1.3980354, 1.0063871, 0....  \n",
       "1  [65.14697, 3.6002274, 1.0016865, 0.519425, 0.4...  \n",
       "2  [6.3429184, 2.8707366, 1.0043808, 0.48903415, ...  \n",
       "3  [44.160313, 3.9788911, 1.0003324, 0.48993433, ...  \n",
       "4  [28.635057, 6.1044326, 2.0895166, 1.0013279, 0...  "
      ]
     },
     "execution_count": 82,
     "metadata": {},
     "output_type": "execute_result"
    }
   ],
   "source": [
    "recommendations_df = pd.DataFrame(\n",
    "    {\n",
    "        \"client_id\": test_clients_encoded,\n",
    "        \"recommendations\": [list(el) for el in recommendations[0]],\n",
    "        \"scores\": [list(el) for el in recommendations[1]]\n",
    "    }\n",
    ")\n",
    "recommendations_df.head()"
   ]
  },
  {
   "cell_type": "code",
   "execution_count": null,
   "id": "a1b9372f",
   "metadata": {},
   "outputs": [
    {
     "data": {
      "text/html": [
       "<div>\n",
       "<style scoped>\n",
       "    .dataframe tbody tr th:only-of-type {\n",
       "        vertical-align: middle;\n",
       "    }\n",
       "\n",
       "    .dataframe tbody tr th {\n",
       "        vertical-align: top;\n",
       "    }\n",
       "\n",
       "    .dataframe thead th {\n",
       "        text-align: right;\n",
       "    }\n",
       "</style>\n",
       "<table border=\"1\" class=\"dataframe\">\n",
       "  <thead>\n",
       "    <tr style=\"text-align: right;\">\n",
       "      <th></th>\n",
       "      <th>client_id</th>\n",
       "      <th>account</th>\n",
       "      <th>account_name</th>\n",
       "    </tr>\n",
       "  </thead>\n",
       "  <tbody>\n",
       "    <tr>\n",
       "      <th>0</th>\n",
       "      <td>0</td>\n",
       "      <td>0.000000</td>\n",
       "      <td>0</td>\n",
       "    </tr>\n",
       "    <tr>\n",
       "      <th>1</th>\n",
       "      <td>0</td>\n",
       "      <td>0.000000</td>\n",
       "      <td>1</td>\n",
       "    </tr>\n",
       "    <tr>\n",
       "      <th>2</th>\n",
       "      <td>0</td>\n",
       "      <td>6.526027</td>\n",
       "      <td>2</td>\n",
       "    </tr>\n",
       "    <tr>\n",
       "      <th>3</th>\n",
       "      <td>0</td>\n",
       "      <td>0.000000</td>\n",
       "      <td>3</td>\n",
       "    </tr>\n",
       "    <tr>\n",
       "      <th>4</th>\n",
       "      <td>0</td>\n",
       "      <td>0.000000</td>\n",
       "      <td>4</td>\n",
       "    </tr>\n",
       "  </tbody>\n",
       "</table>\n",
       "</div>"
      ],
      "text/plain": [
       "   client_id   account  account_name\n",
       "0          0  0.000000             0\n",
       "1          0  0.000000             1\n",
       "2          0  6.526027             2\n",
       "3          0  0.000000             3\n",
       "4          0  0.000000             4"
      ]
     },
     "execution_count": 84,
     "metadata": {},
     "output_type": "execute_result"
    }
   ],
   "source": [
    "interaction_matrix_exploded[interaction_matrix_exploded['account'] != 0]"
   ]
  },
  {
   "cell_type": "code",
   "execution_count": 81,
   "id": "de6c77d8",
   "metadata": {},
   "outputs": [
    {
     "data": {
      "text/plain": [
       "(914597, 24)"
      ]
     },
     "execution_count": 81,
     "metadata": {},
     "output_type": "execute_result"
    }
   ],
   "source": [
    "recommendations[0].shape"
   ]
  },
  {
   "cell_type": "code",
   "execution_count": 67,
   "id": "3c3a1946",
   "metadata": {},
   "outputs": [
    {
     "data": {
      "text/plain": [
       "<map at 0x7f0670fd7820>"
      ]
     },
     "execution_count": 67,
     "metadata": {},
     "output_type": "execute_result"
    }
   ],
   "source": [
    "map(set,recommendations.tolist())"
   ]
  },
  {
   "cell_type": "markdown",
   "id": "4085ef70",
   "metadata": {},
   "source": [
    "## Model improvement"
   ]
  },
  {
   "cell_type": "code",
   "execution_count": null,
   "id": "c93f9b2b",
   "metadata": {},
   "outputs": [],
   "source": []
  },
  {
   "cell_type": "code",
   "execution_count": null,
   "id": "d51daae1",
   "metadata": {},
   "outputs": [],
   "source": []
  }
 ],
 "metadata": {
  "kernelspec": {
   "display_name": ".venv",
   "language": "python",
   "name": "python3"
  },
  "language_info": {
   "codemirror_mode": {
    "name": "ipython",
    "version": 3
   },
   "file_extension": ".py",
   "mimetype": "text/x-python",
   "name": "python",
   "nbconvert_exporter": "python",
   "pygments_lexer": "ipython3",
   "version": "3.10.12"
  }
 },
 "nbformat": 4,
 "nbformat_minor": 5
}
