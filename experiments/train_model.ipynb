{
 "cells": [
  {
   "cell_type": "code",
   "execution_count": 1,
   "id": "0dde1d49",
   "metadata": {},
   "outputs": [],
   "source": [
    "import pandas as pd\n",
    "import numpy as np\n",
    "import matplotlib.pyplot as plt\n",
    "import seaborn as sns\n",
    "import requests\n",
    "from datetime import datetime as dt\n",
    "import boto3\n",
    "from io import BytesIO\n",
    "import pickle\n",
    "import os\n",
    "from dotenv import load_dotenv\n",
    "import scipy\n",
    "from sklearn.preprocessing import LabelEncoder\n",
    "from implicit.als import AlternatingLeastSquares\n",
    "from sklearn.preprocessing import MinMaxScaler\n",
    "\n",
    "plt.style.use('ggplot')\n",
    "\n"
   ]
  },
  {
   "cell_type": "code",
   "execution_count": 2,
   "id": "e7b84f4d",
   "metadata": {},
   "outputs": [],
   "source": [
    "load_dotenv()\n",
    "\n",
    "S3_BUCKET_NAME=os.getenv(\"S3_BUCKET_NAME\")\n",
    "AWS_ACCESS_KEY_ID=os.getenv(\"AWS_ACCESS_KEY_ID\")\n",
    "AWS_SECRET_ACCESS_KEY=os.getenv(\"AWS_SECRET_ACCESS_KEY\")"
   ]
  },
  {
   "cell_type": "code",
   "execution_count": 3,
   "id": "98516fa7",
   "metadata": {},
   "outputs": [],
   "source": [
    "# определение функций для работы с s3\n",
    "def upload_to_s3(df, file_name):\n",
    "    s3_client = boto3.client(\n",
    "        \"s3\",\n",
    "        endpoint_url='https://storage.yandexcloud.net',\n",
    "        aws_access_key_id=AWS_ACCESS_KEY_ID,\n",
    "        aws_secret_access_key=AWS_SECRET_ACCESS_KEY,\n",
    "    )\n",
    "    \n",
    "    with BytesIO() as buffer:\n",
    "        df.to_parquet(buffer)\n",
    "        buffer.seek(0)\n",
    "        s3_client.upload_fileobj(buffer, S3_BUCKET_NAME, file_name)\n",
    "    \n",
    "    \n",
    "def download_from_s3(file_name) -> pd.DataFrame:\n",
    "    s3_client = boto3.client(\n",
    "        \"s3\",\n",
    "        endpoint_url='https://storage.yandexcloud.net',\n",
    "        aws_access_key_id=AWS_ACCESS_KEY_ID,\n",
    "        aws_secret_access_key=AWS_SECRET_ACCESS_KEY,\n",
    "    )\n",
    "    with BytesIO() as buffer:\n",
    "        s3_client.download_fileobj(S3_BUCKET_NAME, file_name, buffer)\n",
    "        buffer.seek(0)\n",
    "        return pd.read_parquet(buffer)\n",
    "    \n",
    "    \n",
    "def upload_pickle_to_s3(object, file_name):\n",
    "    s3_client = boto3.client(\n",
    "        \"s3\",\n",
    "        endpoint_url='https://storage.yandexcloud.net',\n",
    "        aws_access_key_id=AWS_ACCESS_KEY_ID,\n",
    "        aws_secret_access_key=AWS_SECRET_ACCESS_KEY,\n",
    "    )\n",
    "    with BytesIO() as buffer:\n",
    "        pickle.dump(object, buffer)\n",
    "        buffer.seek(0)\n",
    "        s3_client.upload_fileobj(buffer, S3_BUCKET_NAME, file_name)\n",
    "        \n",
    "def download_pickle_from_s3(file_name):\n",
    "    s3_client = boto3.client(\n",
    "        \"s3\",\n",
    "        endpoint_url='https://storage.yandexcloud.net',\n",
    "        aws_access_key_id=AWS_ACCESS_KEY_ID,\n",
    "        aws_secret_access_key=AWS_SECRET_ACCESS_KEY,\n",
    "    )\n",
    "    with BytesIO() as buffer:\n",
    "        s3_client.download_fileobj(S3_BUCKET_NAME, file_name, buffer)\n",
    "        buffer.seek(0)\n",
    "        return pickle.load(buffer)"
   ]
  },
  {
   "cell_type": "markdown",
   "id": "10b16718",
   "metadata": {},
   "source": [
    "## Выгрузка данных"
   ]
  },
  {
   "cell_type": "code",
   "execution_count": 4,
   "id": "2970ac23",
   "metadata": {},
   "outputs": [],
   "source": [
    "data = download_from_s3('bank_products_processed.parquet')"
   ]
  },
  {
   "cell_type": "code",
   "execution_count": 5,
   "id": "25227168",
   "metadata": {},
   "outputs": [],
   "source": [
    "split_date = '2016-01-28'\n",
    "\n",
    "train_data = data[data['div_data'] <= split_date]\n",
    "test_data = data[data['div_data'] > split_date]\n"
   ]
  },
  {
   "cell_type": "code",
   "execution_count": 6,
   "id": "cd93ccae",
   "metadata": {},
   "outputs": [],
   "source": [
    "target_cols = [col for col in train_data.columns if col.startswith('acc_')]"
   ]
  },
  {
   "cell_type": "markdown",
   "id": "3274ae11",
   "metadata": {},
   "source": [
    "## Baseline model  \n",
    "Первый вариант модели с использованием только данных о взаимодействии клиентов с объектами"
   ]
  },
  {
   "cell_type": "code",
   "execution_count": null,
   "id": "47aac1b2",
   "metadata": {},
   "outputs": [],
   "source": []
  },
  {
   "cell_type": "code",
   "execution_count": 7,
   "id": "786ff524",
   "metadata": {},
   "outputs": [],
   "source": [
    "client_enc = LabelEncoder()"
   ]
  },
  {
   "cell_type": "code",
   "execution_count": 8,
   "id": "d0f6f3db",
   "metadata": {},
   "outputs": [
    {
     "name": "stderr",
     "output_type": "stream",
     "text": [
      "/tmp/ipykernel_2783/114229116.py:1: SettingWithCopyWarning: \n",
      "A value is trying to be set on a copy of a slice from a DataFrame.\n",
      "Try using .loc[row_indexer,col_indexer] = value instead\n",
      "\n",
      "See the caveats in the documentation: https://pandas.pydata.org/pandas-docs/stable/user_guide/indexing.html#returning-a-view-versus-a-copy\n",
      "  train_data['max_date'] = train_data['div_data'].max()\n",
      "/tmp/ipykernel_2783/114229116.py:2: SettingWithCopyWarning: \n",
      "A value is trying to be set on a copy of a slice from a DataFrame.\n",
      "Try using .loc[row_indexer,col_indexer] = value instead\n",
      "\n",
      "See the caveats in the documentation: https://pandas.pydata.org/pandas-docs/stable/user_guide/indexing.html#returning-a-view-versus-a-copy\n",
      "  test_data['max_date'] = test_data['div_data'].max()\n",
      "/tmp/ipykernel_2783/114229116.py:4: SettingWithCopyWarning: \n",
      "A value is trying to be set on a copy of a slice from a DataFrame.\n",
      "Try using .loc[row_indexer,col_indexer] = value instead\n",
      "\n",
      "See the caveats in the documentation: https://pandas.pydata.org/pandas-docs/stable/user_guide/indexing.html#returning-a-view-versus-a-copy\n",
      "  train_data['days_from_max_date'] = (train_data['max_date'] - train_data['div_data']).dt.days\n",
      "/tmp/ipykernel_2783/114229116.py:5: SettingWithCopyWarning: \n",
      "A value is trying to be set on a copy of a slice from a DataFrame.\n",
      "Try using .loc[row_indexer,col_indexer] = value instead\n",
      "\n",
      "See the caveats in the documentation: https://pandas.pydata.org/pandas-docs/stable/user_guide/indexing.html#returning-a-view-versus-a-copy\n",
      "  test_data['days_from_max_date'] = (test_data['max_date'] - test_data['div_data']).dt.days\n",
      "/tmp/ipykernel_2783/114229116.py:7: SettingWithCopyWarning: \n",
      "A value is trying to be set on a copy of a slice from a DataFrame.\n",
      "Try using .loc[row_indexer,col_indexer] = value instead\n",
      "\n",
      "See the caveats in the documentation: https://pandas.pydata.org/pandas-docs/stable/user_guide/indexing.html#returning-a-view-versus-a-copy\n",
      "  train_data['days_from_max_date'] = train_data['days_from_max_date'].astype(int)\n",
      "/tmp/ipykernel_2783/114229116.py:8: SettingWithCopyWarning: \n",
      "A value is trying to be set on a copy of a slice from a DataFrame.\n",
      "Try using .loc[row_indexer,col_indexer] = value instead\n",
      "\n",
      "See the caveats in the documentation: https://pandas.pydata.org/pandas-docs/stable/user_guide/indexing.html#returning-a-view-versus-a-copy\n",
      "  test_data['days_from_max_date'] = test_data['days_from_max_date'].astype(int)\n",
      "/tmp/ipykernel_2783/114229116.py:10: SettingWithCopyWarning: \n",
      "A value is trying to be set on a copy of a slice from a DataFrame.\n",
      "Try using .loc[row_indexer,col_indexer] = value instead\n",
      "\n",
      "See the caveats in the documentation: https://pandas.pydata.org/pandas-docs/stable/user_guide/indexing.html#returning-a-view-versus-a-copy\n",
      "  train_data['weight'] = train_data['days_from_max_date'] / train_data['days_from_max_date'].max()\n",
      "/tmp/ipykernel_2783/114229116.py:11: SettingWithCopyWarning: \n",
      "A value is trying to be set on a copy of a slice from a DataFrame.\n",
      "Try using .loc[row_indexer,col_indexer] = value instead\n",
      "\n",
      "See the caveats in the documentation: https://pandas.pydata.org/pandas-docs/stable/user_guide/indexing.html#returning-a-view-versus-a-copy\n",
      "  test_data['weight'] = test_data['days_from_max_date'] / test_data['days_from_max_date'].max()\n"
     ]
    }
   ],
   "source": [
    "train_data['max_date'] = train_data['div_data'].max()\n",
    "test_data['max_date'] = test_data['div_data'].max()\n",
    "\n",
    "train_data['days_from_max_date'] = (train_data['max_date'] - train_data['div_data']).dt.days\n",
    "test_data['days_from_max_date'] = (test_data['max_date'] - test_data['div_data']).dt.days\n",
    "\n",
    "train_data['days_from_max_date'] = train_data['days_from_max_date'].astype(int)\n",
    "test_data['days_from_max_date'] = test_data['days_from_max_date'].astype(int)\n",
    "\n",
    "train_data['weight'] = train_data['days_from_max_date'] / train_data['days_from_max_date'].max()\n",
    "test_data['weight'] = test_data['days_from_max_date'] / test_data['days_from_max_date'].max()\n"
   ]
  },
  {
   "cell_type": "code",
   "execution_count": 9,
   "id": "0d4fc05d",
   "metadata": {},
   "outputs": [
    {
     "name": "stderr",
     "output_type": "stream",
     "text": [
      "/tmp/ipykernel_2783/759098843.py:2: SettingWithCopyWarning: \n",
      "A value is trying to be set on a copy of a slice from a DataFrame.\n",
      "Try using .loc[row_indexer,col_indexer] = value instead\n",
      "\n",
      "See the caveats in the documentation: https://pandas.pydata.org/pandas-docs/stable/user_guide/indexing.html#returning-a-view-versus-a-copy\n",
      "  train_data[target] = train_data[target] * train_data['weight']\n",
      "/tmp/ipykernel_2783/759098843.py:3: SettingWithCopyWarning: \n",
      "A value is trying to be set on a copy of a slice from a DataFrame.\n",
      "Try using .loc[row_indexer,col_indexer] = value instead\n",
      "\n",
      "See the caveats in the documentation: https://pandas.pydata.org/pandas-docs/stable/user_guide/indexing.html#returning-a-view-versus-a-copy\n",
      "  test_data[target] = test_data[target] * test_data['weight']\n"
     ]
    }
   ],
   "source": [
    "for target in target_cols:\n",
    "    train_data[target] = train_data[target] * train_data['weight']\n",
    "    test_data[target] = test_data[target] * test_data['weight']"
   ]
  },
  {
   "cell_type": "code",
   "execution_count": 10,
   "id": "2ba6ec32",
   "metadata": {},
   "outputs": [
    {
     "name": "stderr",
     "output_type": "stream",
     "text": [
      "/tmp/ipykernel_2783/3143459088.py:2: SettingWithCopyWarning: \n",
      "A value is trying to be set on a copy of a slice from a DataFrame.\n",
      "Try using .loc[row_indexer,col_indexer] = value instead\n",
      "\n",
      "See the caveats in the documentation: https://pandas.pydata.org/pandas-docs/stable/user_guide/indexing.html#returning-a-view-versus-a-copy\n",
      "  interaction_matrix['client_id'] = client_enc.fit_transform(interaction_matrix['client_id'])\n"
     ]
    }
   ],
   "source": [
    "interaction_matrix = train_data[['client_id'] + target_cols]\n",
    "interaction_matrix['client_id'] = client_enc.fit_transform(interaction_matrix['client_id'])\n",
    "\n",
    "interaction_matrix = interaction_matrix.groupby('client_id').sum().reset_index()"
   ]
  },
  {
   "cell_type": "code",
   "execution_count": 11,
   "id": "b2f6aa1c",
   "metadata": {},
   "outputs": [
    {
     "data": {
      "text/plain": [
       "(927690, 25)"
      ]
     },
     "execution_count": 11,
     "metadata": {},
     "output_type": "execute_result"
    }
   ],
   "source": [
    "interaction_matrix.shape"
   ]
  },
  {
   "cell_type": "code",
   "execution_count": 12,
   "id": "d8f14311",
   "metadata": {},
   "outputs": [],
   "source": [
    "acc_to_id = {acc: id for id, acc in enumerate(target_cols)}\n",
    "id_to_acc = {id: acc for id, acc in enumerate(target_cols)}"
   ]
  },
  {
   "cell_type": "code",
   "execution_count": 13,
   "id": "74eaf824",
   "metadata": {},
   "outputs": [
    {
     "data": {
      "text/plain": [
       "(927690, 25)"
      ]
     },
     "execution_count": 13,
     "metadata": {},
     "output_type": "execute_result"
    }
   ],
   "source": [
    "interaction_matrix.shape"
   ]
  },
  {
   "cell_type": "code",
   "execution_count": 14,
   "id": "938d6431",
   "metadata": {},
   "outputs": [],
   "source": [
    "interaction_matrix['accounts'] = [[targets] for targets in interaction_matrix[target_cols].values]\n",
    "interaction_matrix['accounts'] = interaction_matrix['accounts'].apply(lambda x: x[0])\n",
    "interaction_matrix['accounts_name'] = [list(id_to_acc.keys())] * interaction_matrix.shape[0]"
   ]
  },
  {
   "cell_type": "code",
   "execution_count": 15,
   "id": "d1ebf654",
   "metadata": {},
   "outputs": [],
   "source": [
    "interaction_matrix = interaction_matrix[['client_id', 'accounts', 'accounts_name']]\n",
    "del train_data\n"
   ]
  },
  {
   "cell_type": "code",
   "execution_count": 16,
   "id": "6205632b",
   "metadata": {},
   "outputs": [
    {
     "data": {
      "text/plain": [
       "(927690, 3)"
      ]
     },
     "execution_count": 16,
     "metadata": {},
     "output_type": "execute_result"
    }
   ],
   "source": [
    "interaction_matrix.shape"
   ]
  },
  {
   "cell_type": "code",
   "execution_count": 17,
   "id": "62255822",
   "metadata": {},
   "outputs": [
    {
     "data": {
      "text/html": [
       "<div>\n",
       "<style scoped>\n",
       "    .dataframe tbody tr th:only-of-type {\n",
       "        vertical-align: middle;\n",
       "    }\n",
       "\n",
       "    .dataframe tbody tr th {\n",
       "        vertical-align: top;\n",
       "    }\n",
       "\n",
       "    .dataframe thead th {\n",
       "        text-align: right;\n",
       "    }\n",
       "</style>\n",
       "<table border=\"1\" class=\"dataframe\">\n",
       "  <thead>\n",
       "    <tr style=\"text-align: right;\">\n",
       "      <th></th>\n",
       "      <th>client_id</th>\n",
       "      <th>account</th>\n",
       "      <th>account_name</th>\n",
       "    </tr>\n",
       "  </thead>\n",
       "  <tbody>\n",
       "    <tr>\n",
       "      <th>2</th>\n",
       "      <td>0</td>\n",
       "      <td>6.860274</td>\n",
       "      <td>2</td>\n",
       "    </tr>\n",
       "    <tr>\n",
       "      <th>8</th>\n",
       "      <td>0</td>\n",
       "      <td>6.860274</td>\n",
       "      <td>8</td>\n",
       "    </tr>\n",
       "    <tr>\n",
       "      <th>18</th>\n",
       "      <td>0</td>\n",
       "      <td>2.846575</td>\n",
       "      <td>18</td>\n",
       "    </tr>\n",
       "    <tr>\n",
       "      <th>19</th>\n",
       "      <td>0</td>\n",
       "      <td>6.860274</td>\n",
       "      <td>19</td>\n",
       "    </tr>\n",
       "    <tr>\n",
       "      <th>28</th>\n",
       "      <td>1</td>\n",
       "      <td>6.860274</td>\n",
       "      <td>4</td>\n",
       "    </tr>\n",
       "  </tbody>\n",
       "</table>\n",
       "</div>"
      ],
      "text/plain": [
       "    client_id   account  account_name\n",
       "2           0  6.860274             2\n",
       "8           0  6.860274             8\n",
       "18          0  2.846575            18\n",
       "19          0  6.860274            19\n",
       "28          1  6.860274             4"
      ]
     },
     "execution_count": 17,
     "metadata": {},
     "output_type": "execute_result"
    }
   ],
   "source": [
    "# interaction_matrix = interaction_matrix[['client_id', 'accounts', 'accounts_name']].explode(['accounts', 'accounts_name'])\n",
    "\n",
    "interaction_matrix_exploded = list()\n",
    "interaction_matrix = interaction_matrix.values\n",
    "\n",
    "for row in interaction_matrix:\n",
    "    accounts = row[1]\n",
    "    accounts_name = row[2]\n",
    "    client_id = row[0]\n",
    "    for account, account_name in zip(accounts, accounts_name):\n",
    "        interaction_matrix_exploded.append((client_id, account, account_name))\n",
    "\n",
    "interaction_matrix_exploded = pd.DataFrame(interaction_matrix_exploded, columns=['client_id', 'account', 'account_name'])\n",
    "interaction_matrix_exploded = interaction_matrix_exploded[interaction_matrix_exploded['account'] > 0]\n",
    "interaction_matrix_exploded.head()"
   ]
  },
  {
   "cell_type": "code",
   "execution_count": 18,
   "id": "2109901d",
   "metadata": {},
   "outputs": [],
   "source": [
    "# interaction_matrix_exploded['account'] = scaler.fit_transform(interaction_matrix_exploded[['account']])"
   ]
  },
  {
   "cell_type": "code",
   "execution_count": 19,
   "id": "bdef2f4e",
   "metadata": {},
   "outputs": [],
   "source": [
    "# создаём sparse-матрицу формата CSR \n",
    "user_item_matrix_train = scipy.sparse.csr_matrix((\n",
    "    interaction_matrix_exploded[\"account\"],\n",
    "    (interaction_matrix_exploded['client_id'], interaction_matrix_exploded['account_name'])),\n",
    "    dtype=np.float32)"
   ]
  },
  {
   "cell_type": "code",
   "execution_count": 20,
   "id": "54110866",
   "metadata": {},
   "outputs": [
    {
     "name": "stderr",
     "output_type": "stream",
     "text": [
      "/home/mle-user/mle-final-project/.venv/lib/python3.10/site-packages/implicit/cpu/als.py:95: RuntimeWarning: OpenBLAS is configured to use 4 threads. It is highly recommended to disable its internal threadpool by setting the environment variable 'OPENBLAS_NUM_THREADS=1' or by calling 'threadpoolctl.threadpool_limits(1, \"blas\")'. Having OpenBLAS use a threadpool can lead to severe performance issues here.\n",
      "  check_blas_config()\n"
     ]
    },
    {
     "data": {
      "application/vnd.jupyter.widget-view+json": {
       "model_id": "1b984621cb5c4ecb8fd62b56e8ced34c",
       "version_major": 2,
       "version_minor": 0
      },
      "text/plain": [
       "  0%|          | 0/25 [00:00<?, ?it/s]"
      ]
     },
     "metadata": {},
     "output_type": "display_data"
    }
   ],
   "source": [
    "als_model = AlternatingLeastSquares(factors=50, iterations=25, regularization=0.05, random_state=0)\n",
    "als_model.fit(user_item_matrix_train)"
   ]
  },
  {
   "cell_type": "code",
   "execution_count": 21,
   "id": "458e9762",
   "metadata": {},
   "outputs": [],
   "source": [
    "upload_pickle_to_s3(als_model, 'als_model.pkl')"
   ]
  },
  {
   "cell_type": "markdown",
   "id": "9ec57769",
   "metadata": {},
   "source": [
    "## Model evaluation"
   ]
  },
  {
   "cell_type": "code",
   "execution_count": 22,
   "id": "13d991a3",
   "metadata": {},
   "outputs": [],
   "source": [
    "als_model = download_pickle_from_s3('als_model.pkl')"
   ]
  },
  {
   "cell_type": "code",
   "execution_count": 50,
   "id": "da0de4e3",
   "metadata": {},
   "outputs": [
    {
     "data": {
      "text/plain": [
       "array([  15889,   15890,   15891, ..., 1528594, 1528597, 1528598])"
      ]
     },
     "execution_count": 50,
     "metadata": {},
     "output_type": "execute_result"
    }
   ],
   "source": [
    "client_enc.classes_"
   ]
  },
  {
   "cell_type": "code",
   "execution_count": 24,
   "id": "5c53cb80",
   "metadata": {},
   "outputs": [],
   "source": [
    "test_clients = [client for client in test_data['client_id'].unique() if client in client_enc.classes_]\n",
    "test_clients_encoded = client_enc.transform(test_clients)\n",
    "recommendations = als_model.recommend(test_clients_encoded, user_item_matrix_train[test_clients_encoded], filter_already_liked_items=True, N=24)"
   ]
  },
  {
   "cell_type": "code",
   "execution_count": 33,
   "id": "3111f4fa",
   "metadata": {},
   "outputs": [
    {
     "data": {
      "text/plain": [
       "array([748902, 748905, 748901, ..., 592149, 593074, 587986])"
      ]
     },
     "execution_count": 33,
     "metadata": {},
     "output_type": "execute_result"
    }
   ],
   "source": [
    "test_clients_encoded"
   ]
  },
  {
   "cell_type": "code",
   "execution_count": 35,
   "id": "89363fd2",
   "metadata": {},
   "outputs": [
    {
     "data": {
      "text/plain": [
       "<927690x24 sparse matrix of type '<class 'numpy.int8'>'\n",
       "\twith 22264560 stored elements in Compressed Sparse Row format>"
      ]
     },
     "execution_count": 35,
     "metadata": {},
     "output_type": "execute_result"
    }
   ],
   "source": [
    "user_item_matrix_train"
   ]
  },
  {
   "cell_type": "code",
   "execution_count": 30,
   "id": "57fbc010",
   "metadata": {},
   "outputs": [
    {
     "data": {
      "text/html": [
       "<div>\n",
       "<style scoped>\n",
       "    .dataframe tbody tr th:only-of-type {\n",
       "        vertical-align: middle;\n",
       "    }\n",
       "\n",
       "    .dataframe tbody tr th {\n",
       "        vertical-align: top;\n",
       "    }\n",
       "\n",
       "    .dataframe thead th {\n",
       "        text-align: right;\n",
       "    }\n",
       "</style>\n",
       "<table border=\"1\" class=\"dataframe\">\n",
       "  <thead>\n",
       "    <tr style=\"text-align: right;\">\n",
       "      <th></th>\n",
       "      <th>acc_savings</th>\n",
       "      <th>acc_garant</th>\n",
       "      <th>acc_current</th>\n",
       "      <th>acc_derivative</th>\n",
       "      <th>acc_salary</th>\n",
       "      <th>acc_child</th>\n",
       "      <th>acc_spec3</th>\n",
       "      <th>acc_spec1</th>\n",
       "      <th>acc_spec2</th>\n",
       "      <th>acc_short_deposit</th>\n",
       "      <th>...</th>\n",
       "      <th>acc_pension</th>\n",
       "      <th>acc_credit</th>\n",
       "      <th>acc_tax</th>\n",
       "      <th>acc_credit_cart</th>\n",
       "      <th>acc_securities</th>\n",
       "      <th>acc_home</th>\n",
       "      <th>acc_salary_payment</th>\n",
       "      <th>acc_pension_loans</th>\n",
       "      <th>acc_debit</th>\n",
       "      <th>client_id</th>\n",
       "    </tr>\n",
       "  </thead>\n",
       "  <tbody>\n",
       "    <tr>\n",
       "      <th>14211719</th>\n",
       "      <td>0.0</td>\n",
       "      <td>0.0</td>\n",
       "      <td>0.000000</td>\n",
       "      <td>0.0</td>\n",
       "      <td>0.0</td>\n",
       "      <td>0.0</td>\n",
       "      <td>0.0</td>\n",
       "      <td>0.000000</td>\n",
       "      <td>0.000000</td>\n",
       "      <td>0.0</td>\n",
       "      <td>...</td>\n",
       "      <td>0.0</td>\n",
       "      <td>0.0</td>\n",
       "      <td>0.0</td>\n",
       "      <td>0.0</td>\n",
       "      <td>0.0</td>\n",
       "      <td>0.0</td>\n",
       "      <td>0.0</td>\n",
       "      <td>0.0</td>\n",
       "      <td>0.000000</td>\n",
       "      <td>1419836</td>\n",
       "    </tr>\n",
       "    <tr>\n",
       "      <th>12819568</th>\n",
       "      <td>0.0</td>\n",
       "      <td>0.0</td>\n",
       "      <td>0.333333</td>\n",
       "      <td>0.0</td>\n",
       "      <td>0.0</td>\n",
       "      <td>0.0</td>\n",
       "      <td>0.0</td>\n",
       "      <td>0.000000</td>\n",
       "      <td>0.000000</td>\n",
       "      <td>0.0</td>\n",
       "      <td>...</td>\n",
       "      <td>0.0</td>\n",
       "      <td>0.0</td>\n",
       "      <td>0.0</td>\n",
       "      <td>0.0</td>\n",
       "      <td>0.0</td>\n",
       "      <td>0.0</td>\n",
       "      <td>0.0</td>\n",
       "      <td>0.0</td>\n",
       "      <td>0.333333</td>\n",
       "      <td>745242</td>\n",
       "    </tr>\n",
       "    <tr>\n",
       "      <th>13833938</th>\n",
       "      <td>0.0</td>\n",
       "      <td>0.0</td>\n",
       "      <td>0.000000</td>\n",
       "      <td>0.0</td>\n",
       "      <td>0.0</td>\n",
       "      <td>0.0</td>\n",
       "      <td>0.0</td>\n",
       "      <td>0.000000</td>\n",
       "      <td>0.000000</td>\n",
       "      <td>0.0</td>\n",
       "      <td>...</td>\n",
       "      <td>0.0</td>\n",
       "      <td>0.0</td>\n",
       "      <td>0.0</td>\n",
       "      <td>0.0</td>\n",
       "      <td>0.0</td>\n",
       "      <td>0.0</td>\n",
       "      <td>0.0</td>\n",
       "      <td>0.0</td>\n",
       "      <td>0.000000</td>\n",
       "      <td>191870</td>\n",
       "    </tr>\n",
       "    <tr>\n",
       "      <th>11371919</th>\n",
       "      <td>0.0</td>\n",
       "      <td>0.0</td>\n",
       "      <td>0.000000</td>\n",
       "      <td>0.0</td>\n",
       "      <td>0.0</td>\n",
       "      <td>0.0</td>\n",
       "      <td>0.0</td>\n",
       "      <td>0.000000</td>\n",
       "      <td>0.000000</td>\n",
       "      <td>0.0</td>\n",
       "      <td>...</td>\n",
       "      <td>0.0</td>\n",
       "      <td>0.0</td>\n",
       "      <td>0.0</td>\n",
       "      <td>0.0</td>\n",
       "      <td>0.0</td>\n",
       "      <td>0.0</td>\n",
       "      <td>0.0</td>\n",
       "      <td>0.0</td>\n",
       "      <td>0.000000</td>\n",
       "      <td>237000</td>\n",
       "    </tr>\n",
       "    <tr>\n",
       "      <th>11522536</th>\n",
       "      <td>0.0</td>\n",
       "      <td>0.0</td>\n",
       "      <td>1.000000</td>\n",
       "      <td>0.0</td>\n",
       "      <td>0.0</td>\n",
       "      <td>0.0</td>\n",
       "      <td>0.0</td>\n",
       "      <td>0.000000</td>\n",
       "      <td>0.000000</td>\n",
       "      <td>0.0</td>\n",
       "      <td>...</td>\n",
       "      <td>0.0</td>\n",
       "      <td>0.0</td>\n",
       "      <td>0.0</td>\n",
       "      <td>0.0</td>\n",
       "      <td>1.0</td>\n",
       "      <td>0.0</td>\n",
       "      <td>0.0</td>\n",
       "      <td>0.0</td>\n",
       "      <td>1.000000</td>\n",
       "      <td>1157116</td>\n",
       "    </tr>\n",
       "    <tr>\n",
       "      <th>12164721</th>\n",
       "      <td>0.0</td>\n",
       "      <td>0.0</td>\n",
       "      <td>0.000000</td>\n",
       "      <td>0.0</td>\n",
       "      <td>0.0</td>\n",
       "      <td>0.0</td>\n",
       "      <td>0.0</td>\n",
       "      <td>0.000000</td>\n",
       "      <td>0.677778</td>\n",
       "      <td>0.0</td>\n",
       "      <td>...</td>\n",
       "      <td>0.0</td>\n",
       "      <td>0.0</td>\n",
       "      <td>0.0</td>\n",
       "      <td>0.0</td>\n",
       "      <td>0.0</td>\n",
       "      <td>0.0</td>\n",
       "      <td>0.0</td>\n",
       "      <td>0.0</td>\n",
       "      <td>0.000000</td>\n",
       "      <td>812730</td>\n",
       "    </tr>\n",
       "    <tr>\n",
       "      <th>11384690</th>\n",
       "      <td>0.0</td>\n",
       "      <td>0.0</td>\n",
       "      <td>1.000000</td>\n",
       "      <td>0.0</td>\n",
       "      <td>0.0</td>\n",
       "      <td>0.0</td>\n",
       "      <td>0.0</td>\n",
       "      <td>0.000000</td>\n",
       "      <td>0.000000</td>\n",
       "      <td>0.0</td>\n",
       "      <td>...</td>\n",
       "      <td>0.0</td>\n",
       "      <td>0.0</td>\n",
       "      <td>0.0</td>\n",
       "      <td>0.0</td>\n",
       "      <td>0.0</td>\n",
       "      <td>0.0</td>\n",
       "      <td>0.0</td>\n",
       "      <td>0.0</td>\n",
       "      <td>0.000000</td>\n",
       "      <td>1058972</td>\n",
       "    </tr>\n",
       "    <tr>\n",
       "      <th>11763291</th>\n",
       "      <td>0.0</td>\n",
       "      <td>0.0</td>\n",
       "      <td>0.000000</td>\n",
       "      <td>0.0</td>\n",
       "      <td>0.0</td>\n",
       "      <td>0.0</td>\n",
       "      <td>0.0</td>\n",
       "      <td>0.000000</td>\n",
       "      <td>0.000000</td>\n",
       "      <td>0.0</td>\n",
       "      <td>...</td>\n",
       "      <td>0.0</td>\n",
       "      <td>0.0</td>\n",
       "      <td>0.0</td>\n",
       "      <td>0.0</td>\n",
       "      <td>0.0</td>\n",
       "      <td>0.0</td>\n",
       "      <td>0.0</td>\n",
       "      <td>0.0</td>\n",
       "      <td>0.000000</td>\n",
       "      <td>1512707</td>\n",
       "    </tr>\n",
       "    <tr>\n",
       "      <th>12006280</th>\n",
       "      <td>0.0</td>\n",
       "      <td>0.0</td>\n",
       "      <td>0.677778</td>\n",
       "      <td>0.0</td>\n",
       "      <td>0.0</td>\n",
       "      <td>0.0</td>\n",
       "      <td>0.0</td>\n",
       "      <td>0.677778</td>\n",
       "      <td>0.000000</td>\n",
       "      <td>0.0</td>\n",
       "      <td>...</td>\n",
       "      <td>0.0</td>\n",
       "      <td>0.0</td>\n",
       "      <td>0.0</td>\n",
       "      <td>0.0</td>\n",
       "      <td>0.0</td>\n",
       "      <td>0.0</td>\n",
       "      <td>0.0</td>\n",
       "      <td>0.0</td>\n",
       "      <td>0.000000</td>\n",
       "      <td>29946</td>\n",
       "    </tr>\n",
       "    <tr>\n",
       "      <th>12162837</th>\n",
       "      <td>0.0</td>\n",
       "      <td>0.0</td>\n",
       "      <td>0.000000</td>\n",
       "      <td>0.0</td>\n",
       "      <td>0.0</td>\n",
       "      <td>0.0</td>\n",
       "      <td>0.0</td>\n",
       "      <td>0.000000</td>\n",
       "      <td>0.000000</td>\n",
       "      <td>0.0</td>\n",
       "      <td>...</td>\n",
       "      <td>0.0</td>\n",
       "      <td>0.0</td>\n",
       "      <td>0.0</td>\n",
       "      <td>0.0</td>\n",
       "      <td>0.0</td>\n",
       "      <td>0.0</td>\n",
       "      <td>0.0</td>\n",
       "      <td>0.0</td>\n",
       "      <td>0.000000</td>\n",
       "      <td>816101</td>\n",
       "    </tr>\n",
       "  </tbody>\n",
       "</table>\n",
       "<p>10 rows × 25 columns</p>\n",
       "</div>"
      ],
      "text/plain": [
       "          acc_savings  acc_garant  acc_current  acc_derivative  acc_salary   \n",
       "14211719          0.0         0.0     0.000000             0.0         0.0  \\\n",
       "12819568          0.0         0.0     0.333333             0.0         0.0   \n",
       "13833938          0.0         0.0     0.000000             0.0         0.0   \n",
       "11371919          0.0         0.0     0.000000             0.0         0.0   \n",
       "11522536          0.0         0.0     1.000000             0.0         0.0   \n",
       "12164721          0.0         0.0     0.000000             0.0         0.0   \n",
       "11384690          0.0         0.0     1.000000             0.0         0.0   \n",
       "11763291          0.0         0.0     0.000000             0.0         0.0   \n",
       "12006280          0.0         0.0     0.677778             0.0         0.0   \n",
       "12162837          0.0         0.0     0.000000             0.0         0.0   \n",
       "\n",
       "          acc_child  acc_spec3  acc_spec1  acc_spec2  acc_short_deposit  ...   \n",
       "14211719        0.0        0.0   0.000000   0.000000                0.0  ...  \\\n",
       "12819568        0.0        0.0   0.000000   0.000000                0.0  ...   \n",
       "13833938        0.0        0.0   0.000000   0.000000                0.0  ...   \n",
       "11371919        0.0        0.0   0.000000   0.000000                0.0  ...   \n",
       "11522536        0.0        0.0   0.000000   0.000000                0.0  ...   \n",
       "12164721        0.0        0.0   0.000000   0.677778                0.0  ...   \n",
       "11384690        0.0        0.0   0.000000   0.000000                0.0  ...   \n",
       "11763291        0.0        0.0   0.000000   0.000000                0.0  ...   \n",
       "12006280        0.0        0.0   0.677778   0.000000                0.0  ...   \n",
       "12162837        0.0        0.0   0.000000   0.000000                0.0  ...   \n",
       "\n",
       "          acc_pension  acc_credit  acc_tax  acc_credit_cart  acc_securities   \n",
       "14211719          0.0         0.0      0.0              0.0             0.0  \\\n",
       "12819568          0.0         0.0      0.0              0.0             0.0   \n",
       "13833938          0.0         0.0      0.0              0.0             0.0   \n",
       "11371919          0.0         0.0      0.0              0.0             0.0   \n",
       "11522536          0.0         0.0      0.0              0.0             1.0   \n",
       "12164721          0.0         0.0      0.0              0.0             0.0   \n",
       "11384690          0.0         0.0      0.0              0.0             0.0   \n",
       "11763291          0.0         0.0      0.0              0.0             0.0   \n",
       "12006280          0.0         0.0      0.0              0.0             0.0   \n",
       "12162837          0.0         0.0      0.0              0.0             0.0   \n",
       "\n",
       "          acc_home  acc_salary_payment  acc_pension_loans  acc_debit   \n",
       "14211719       0.0                 0.0                0.0   0.000000  \\\n",
       "12819568       0.0                 0.0                0.0   0.333333   \n",
       "13833938       0.0                 0.0                0.0   0.000000   \n",
       "11371919       0.0                 0.0                0.0   0.000000   \n",
       "11522536       0.0                 0.0                0.0   1.000000   \n",
       "12164721       0.0                 0.0                0.0   0.000000   \n",
       "11384690       0.0                 0.0                0.0   0.000000   \n",
       "11763291       0.0                 0.0                0.0   0.000000   \n",
       "12006280       0.0                 0.0                0.0   0.000000   \n",
       "12162837       0.0                 0.0                0.0   0.000000   \n",
       "\n",
       "          client_id  \n",
       "14211719    1419836  \n",
       "12819568     745242  \n",
       "13833938     191870  \n",
       "11371919     237000  \n",
       "11522536    1157116  \n",
       "12164721     812730  \n",
       "11384690    1058972  \n",
       "11763291    1512707  \n",
       "12006280      29946  \n",
       "12162837     816101  \n",
       "\n",
       "[10 rows x 25 columns]"
      ]
     },
     "execution_count": 30,
     "metadata": {},
     "output_type": "execute_result"
    }
   ],
   "source": [
    "test_data[target_cols + ['client_id']].sample(10)"
   ]
  },
  {
   "cell_type": "code",
   "execution_count": 45,
   "id": "1ce9fdb8",
   "metadata": {},
   "outputs": [
    {
     "data": {
      "text/plain": [
       "1319846"
      ]
     },
     "execution_count": 45,
     "metadata": {},
     "output_type": "execute_result"
    }
   ],
   "source": [
    "client_enc.inverse_transform([748902])[0]"
   ]
  },
  {
   "cell_type": "code",
   "execution_count": 31,
   "id": "c87f3c76",
   "metadata": {},
   "outputs": [
    {
     "data": {
      "text/plain": [
       "array([6871])"
      ]
     },
     "execution_count": 31,
     "metadata": {},
     "output_type": "execute_result"
    }
   ],
   "source": [
    "client_enc.transform([29946])"
   ]
  },
  {
   "cell_type": "code",
   "execution_count": 50,
   "id": "fd43bdf2",
   "metadata": {},
   "outputs": [
    {
     "data": {
      "text/plain": [
       "(10779253, 48)"
      ]
     },
     "execution_count": 50,
     "metadata": {},
     "output_type": "execute_result"
    }
   ],
   "source": [
    "train_data.shape"
   ]
  },
  {
   "cell_type": "code",
   "execution_count": 32,
   "id": "d8e3a784",
   "metadata": {},
   "outputs": [
    {
     "data": {
      "text/plain": [
       "(array([ 0, 21, 22,  4, 20,  1, 11, 10, 18, 19, 13, 15,  5, 17, 16, 14, 23,\n",
       "         6,  9, 12,  8,  3,  7,  2], dtype=int32),\n",
       " array([ 1.6334779e-03,  1.1728741e-03,  1.0560155e-03,  9.1965683e-04,\n",
       "         7.7000633e-04,  6.7028869e-04,  4.9938075e-04,  4.0197000e-04,\n",
       "         3.8554519e-04,  3.0330755e-04,  1.3864134e-04,  1.9760802e-05,\n",
       "        -1.3917685e-05, -2.3150817e-04, -2.4284050e-04, -3.6528986e-04,\n",
       "        -4.0830672e-04, -5.0593168e-04, -6.7150220e-04, -6.8253092e-04,\n",
       "        -7.0172921e-04, -2.0806175e-03, -3.4028235e+38, -3.4028235e+38],\n",
       "       dtype=float32))"
      ]
     },
     "execution_count": 32,
     "metadata": {},
     "output_type": "execute_result"
    }
   ],
   "source": [
    "als_model.recommend(6871, user_item_matrix_train[6871], filter_already_liked_items=True, N=24)"
   ]
  },
  {
   "cell_type": "code",
   "execution_count": 28,
   "id": "cf55187a",
   "metadata": {},
   "outputs": [
    {
     "data": {
      "text/plain": [
       "(array([21,  4, 22, 23, 18, 12,  3, 17,  6, 14, 11,  5, 16,  9, 15, 19,  8,\n",
       "        20, 10, 13,  1,  0,  7,  2], dtype=int32),\n",
       " array([ 2.48042867e-03,  1.98100135e-03,  1.77556463e-03,  1.65462308e-03,\n",
       "         8.83758068e-04,  6.52389601e-04,  3.30764800e-04,  2.34103296e-04,\n",
       "         1.39936805e-04,  9.44328494e-05,  7.65947625e-05,  4.49977815e-05,\n",
       "         6.88806176e-06, -1.46999955e-05, -8.02073628e-05, -8.70133517e-05,\n",
       "        -9.16812569e-05, -1.14681199e-04, -1.63521618e-04, -2.12425366e-04,\n",
       "        -2.80889974e-04, -3.28164781e-04, -5.95470890e-04, -3.40282347e+38],\n",
       "       dtype=float32))"
      ]
     },
     "execution_count": 28,
     "metadata": {},
     "output_type": "execute_result"
    }
   ],
   "source": [
    "\n",
    "als_model.recommend(748901, user_item_matrix_train[748901], filter_already_liked_items=True, N=24)"
   ]
  },
  {
   "cell_type": "code",
   "execution_count": null,
   "id": "d087550e",
   "metadata": {},
   "outputs": [],
   "source": []
  },
  {
   "cell_type": "code",
   "execution_count": 25,
   "id": "96fddbfb",
   "metadata": {},
   "outputs": [
    {
     "data": {
      "text/html": [
       "<div>\n",
       "<style scoped>\n",
       "    .dataframe tbody tr th:only-of-type {\n",
       "        vertical-align: middle;\n",
       "    }\n",
       "\n",
       "    .dataframe tbody tr th {\n",
       "        vertical-align: top;\n",
       "    }\n",
       "\n",
       "    .dataframe thead th {\n",
       "        text-align: right;\n",
       "    }\n",
       "</style>\n",
       "<table border=\"1\" class=\"dataframe\">\n",
       "  <thead>\n",
       "    <tr style=\"text-align: right;\">\n",
       "      <th></th>\n",
       "      <th>client_id</th>\n",
       "      <th>recommendations</th>\n",
       "      <th>scores</th>\n",
       "    </tr>\n",
       "  </thead>\n",
       "  <tbody>\n",
       "    <tr>\n",
       "      <th>0</th>\n",
       "      <td>748902</td>\n",
       "      <td>[23, 22, 21, 20, 19, 18, 17, 16, 15, 14, 13, 1...</td>\n",
       "      <td>[-3.4028235e+38, -3.4028235e+38, -3.4028235e+3...</td>\n",
       "    </tr>\n",
       "    <tr>\n",
       "      <th>1</th>\n",
       "      <td>748905</td>\n",
       "      <td>[23, 22, 21, 20, 19, 18, 17, 16, 15, 14, 13, 1...</td>\n",
       "      <td>[-3.4028235e+38, -3.4028235e+38, -3.4028235e+3...</td>\n",
       "    </tr>\n",
       "    <tr>\n",
       "      <th>2</th>\n",
       "      <td>748901</td>\n",
       "      <td>[23, 22, 21, 20, 19, 18, 17, 16, 15, 14, 13, 1...</td>\n",
       "      <td>[-3.4028235e+38, -3.4028235e+38, -3.4028235e+3...</td>\n",
       "    </tr>\n",
       "    <tr>\n",
       "      <th>3</th>\n",
       "      <td>748906</td>\n",
       "      <td>[23, 22, 21, 20, 19, 18, 17, 16, 15, 14, 13, 1...</td>\n",
       "      <td>[-3.4028235e+38, -3.4028235e+38, -3.4028235e+3...</td>\n",
       "    </tr>\n",
       "    <tr>\n",
       "      <th>4</th>\n",
       "      <td>748903</td>\n",
       "      <td>[23, 22, 21, 20, 19, 18, 17, 16, 15, 14, 13, 1...</td>\n",
       "      <td>[-3.4028235e+38, -3.4028235e+38, -3.4028235e+3...</td>\n",
       "    </tr>\n",
       "  </tbody>\n",
       "</table>\n",
       "</div>"
      ],
      "text/plain": [
       "   client_id                                    recommendations   \n",
       "0     748902  [23, 22, 21, 20, 19, 18, 17, 16, 15, 14, 13, 1...  \\\n",
       "1     748905  [23, 22, 21, 20, 19, 18, 17, 16, 15, 14, 13, 1...   \n",
       "2     748901  [23, 22, 21, 20, 19, 18, 17, 16, 15, 14, 13, 1...   \n",
       "3     748906  [23, 22, 21, 20, 19, 18, 17, 16, 15, 14, 13, 1...   \n",
       "4     748903  [23, 22, 21, 20, 19, 18, 17, 16, 15, 14, 13, 1...   \n",
       "\n",
       "                                              scores  \n",
       "0  [-3.4028235e+38, -3.4028235e+38, -3.4028235e+3...  \n",
       "1  [-3.4028235e+38, -3.4028235e+38, -3.4028235e+3...  \n",
       "2  [-3.4028235e+38, -3.4028235e+38, -3.4028235e+3...  \n",
       "3  [-3.4028235e+38, -3.4028235e+38, -3.4028235e+3...  \n",
       "4  [-3.4028235e+38, -3.4028235e+38, -3.4028235e+3...  "
      ]
     },
     "execution_count": 25,
     "metadata": {},
     "output_type": "execute_result"
    }
   ],
   "source": [
    "recommendations_df = pd.DataFrame(\n",
    "    {\n",
    "        \"client_id\": test_clients_encoded,\n",
    "        \"recommendations\": [list(el) for el in recommendations[0]],\n",
    "        \"scores\": [list(el) for el in recommendations[1]]\n",
    "    }\n",
    ")\n",
    "recommendations_df.head()"
   ]
  },
  {
   "cell_type": "code",
   "execution_count": 26,
   "id": "8f04d74b",
   "metadata": {},
   "outputs": [
    {
     "data": {
      "text/html": [
       "<div>\n",
       "<style scoped>\n",
       "    .dataframe tbody tr th:only-of-type {\n",
       "        vertical-align: middle;\n",
       "    }\n",
       "\n",
       "    .dataframe tbody tr th {\n",
       "        vertical-align: top;\n",
       "    }\n",
       "\n",
       "    .dataframe thead th {\n",
       "        text-align: right;\n",
       "    }\n",
       "</style>\n",
       "<table border=\"1\" class=\"dataframe\">\n",
       "  <thead>\n",
       "    <tr style=\"text-align: right;\">\n",
       "      <th></th>\n",
       "      <th>client_id</th>\n",
       "      <th>recommendations</th>\n",
       "      <th>scores</th>\n",
       "    </tr>\n",
       "  </thead>\n",
       "  <tbody>\n",
       "    <tr>\n",
       "      <th>440030</th>\n",
       "      <td>48902</td>\n",
       "      <td>[23, 22, 21, 20, 19, 18, 17, 16, 15, 14, 13, 1...</td>\n",
       "      <td>[-3.4028235e+38, -3.4028235e+38, -3.4028235e+3...</td>\n",
       "    </tr>\n",
       "    <tr>\n",
       "      <th>676672</th>\n",
       "      <td>637583</td>\n",
       "      <td>[23, 22, 21, 20, 19, 18, 17, 16, 15, 14, 13, 1...</td>\n",
       "      <td>[-3.4028235e+38, -3.4028235e+38, -3.4028235e+3...</td>\n",
       "    </tr>\n",
       "    <tr>\n",
       "      <th>753506</th>\n",
       "      <td>381427</td>\n",
       "      <td>[23, 22, 21, 20, 19, 18, 17, 16, 15, 14, 13, 1...</td>\n",
       "      <td>[-3.4028235e+38, -3.4028235e+38, -3.4028235e+3...</td>\n",
       "    </tr>\n",
       "    <tr>\n",
       "      <th>101944</th>\n",
       "      <td>717325</td>\n",
       "      <td>[23, 22, 21, 20, 19, 18, 17, 16, 15, 14, 13, 1...</td>\n",
       "      <td>[-3.4028235e+38, -3.4028235e+38, -3.4028235e+3...</td>\n",
       "    </tr>\n",
       "    <tr>\n",
       "      <th>485078</th>\n",
       "      <td>6845</td>\n",
       "      <td>[23, 22, 21, 20, 19, 18, 17, 16, 15, 14, 13, 1...</td>\n",
       "      <td>[-3.4028235e+38, -3.4028235e+38, -3.4028235e+3...</td>\n",
       "    </tr>\n",
       "    <tr>\n",
       "      <th>622700</th>\n",
       "      <td>557410</td>\n",
       "      <td>[23, 22, 21, 20, 19, 18, 17, 16, 15, 14, 13, 1...</td>\n",
       "      <td>[-3.4028235e+38, -3.4028235e+38, -3.4028235e+3...</td>\n",
       "    </tr>\n",
       "    <tr>\n",
       "      <th>138437</th>\n",
       "      <td>881690</td>\n",
       "      <td>[23, 22, 21, 20, 19, 18, 17, 16, 15, 14, 13, 1...</td>\n",
       "      <td>[-3.4028235e+38, -3.4028235e+38, -3.4028235e+3...</td>\n",
       "    </tr>\n",
       "    <tr>\n",
       "      <th>422588</th>\n",
       "      <td>274712</td>\n",
       "      <td>[23, 22, 21, 20, 19, 18, 17, 16, 15, 14, 13, 1...</td>\n",
       "      <td>[-3.4028235e+38, -3.4028235e+38, -3.4028235e+3...</td>\n",
       "    </tr>\n",
       "    <tr>\n",
       "      <th>815494</th>\n",
       "      <td>360279</td>\n",
       "      <td>[23, 22, 21, 20, 19, 18, 17, 16, 15, 14, 13, 1...</td>\n",
       "      <td>[-3.4028235e+38, -3.4028235e+38, -3.4028235e+3...</td>\n",
       "    </tr>\n",
       "    <tr>\n",
       "      <th>554601</th>\n",
       "      <td>98704</td>\n",
       "      <td>[23, 22, 21, 20, 19, 18, 17, 16, 15, 14, 13, 1...</td>\n",
       "      <td>[-3.4028235e+38, -3.4028235e+38, -3.4028235e+3...</td>\n",
       "    </tr>\n",
       "  </tbody>\n",
       "</table>\n",
       "</div>"
      ],
      "text/plain": [
       "        client_id                                    recommendations   \n",
       "440030      48902  [23, 22, 21, 20, 19, 18, 17, 16, 15, 14, 13, 1...  \\\n",
       "676672     637583  [23, 22, 21, 20, 19, 18, 17, 16, 15, 14, 13, 1...   \n",
       "753506     381427  [23, 22, 21, 20, 19, 18, 17, 16, 15, 14, 13, 1...   \n",
       "101944     717325  [23, 22, 21, 20, 19, 18, 17, 16, 15, 14, 13, 1...   \n",
       "485078       6845  [23, 22, 21, 20, 19, 18, 17, 16, 15, 14, 13, 1...   \n",
       "622700     557410  [23, 22, 21, 20, 19, 18, 17, 16, 15, 14, 13, 1...   \n",
       "138437     881690  [23, 22, 21, 20, 19, 18, 17, 16, 15, 14, 13, 1...   \n",
       "422588     274712  [23, 22, 21, 20, 19, 18, 17, 16, 15, 14, 13, 1...   \n",
       "815494     360279  [23, 22, 21, 20, 19, 18, 17, 16, 15, 14, 13, 1...   \n",
       "554601      98704  [23, 22, 21, 20, 19, 18, 17, 16, 15, 14, 13, 1...   \n",
       "\n",
       "                                                   scores  \n",
       "440030  [-3.4028235e+38, -3.4028235e+38, -3.4028235e+3...  \n",
       "676672  [-3.4028235e+38, -3.4028235e+38, -3.4028235e+3...  \n",
       "753506  [-3.4028235e+38, -3.4028235e+38, -3.4028235e+3...  \n",
       "101944  [-3.4028235e+38, -3.4028235e+38, -3.4028235e+3...  \n",
       "485078  [-3.4028235e+38, -3.4028235e+38, -3.4028235e+3...  \n",
       "622700  [-3.4028235e+38, -3.4028235e+38, -3.4028235e+3...  \n",
       "138437  [-3.4028235e+38, -3.4028235e+38, -3.4028235e+3...  \n",
       "422588  [-3.4028235e+38, -3.4028235e+38, -3.4028235e+3...  \n",
       "815494  [-3.4028235e+38, -3.4028235e+38, -3.4028235e+3...  \n",
       "554601  [-3.4028235e+38, -3.4028235e+38, -3.4028235e+3...  "
      ]
     },
     "execution_count": 26,
     "metadata": {},
     "output_type": "execute_result"
    }
   ],
   "source": [
    "recommendations_df.sample(10)"
   ]
  },
  {
   "cell_type": "code",
   "execution_count": null,
   "id": "a1b9372f",
   "metadata": {},
   "outputs": [
    {
     "data": {
      "text/html": [
       "<div>\n",
       "<style scoped>\n",
       "    .dataframe tbody tr th:only-of-type {\n",
       "        vertical-align: middle;\n",
       "    }\n",
       "\n",
       "    .dataframe tbody tr th {\n",
       "        vertical-align: top;\n",
       "    }\n",
       "\n",
       "    .dataframe thead th {\n",
       "        text-align: right;\n",
       "    }\n",
       "</style>\n",
       "<table border=\"1\" class=\"dataframe\">\n",
       "  <thead>\n",
       "    <tr style=\"text-align: right;\">\n",
       "      <th></th>\n",
       "      <th>client_id</th>\n",
       "      <th>account</th>\n",
       "      <th>account_name</th>\n",
       "    </tr>\n",
       "  </thead>\n",
       "  <tbody>\n",
       "    <tr>\n",
       "      <th>0</th>\n",
       "      <td>0</td>\n",
       "      <td>0.000000</td>\n",
       "      <td>0</td>\n",
       "    </tr>\n",
       "    <tr>\n",
       "      <th>1</th>\n",
       "      <td>0</td>\n",
       "      <td>0.000000</td>\n",
       "      <td>1</td>\n",
       "    </tr>\n",
       "    <tr>\n",
       "      <th>2</th>\n",
       "      <td>0</td>\n",
       "      <td>6.526027</td>\n",
       "      <td>2</td>\n",
       "    </tr>\n",
       "    <tr>\n",
       "      <th>3</th>\n",
       "      <td>0</td>\n",
       "      <td>0.000000</td>\n",
       "      <td>3</td>\n",
       "    </tr>\n",
       "    <tr>\n",
       "      <th>4</th>\n",
       "      <td>0</td>\n",
       "      <td>0.000000</td>\n",
       "      <td>4</td>\n",
       "    </tr>\n",
       "  </tbody>\n",
       "</table>\n",
       "</div>"
      ],
      "text/plain": [
       "   client_id   account  account_name\n",
       "0          0  0.000000             0\n",
       "1          0  0.000000             1\n",
       "2          0  6.526027             2\n",
       "3          0  0.000000             3\n",
       "4          0  0.000000             4"
      ]
     },
     "execution_count": 84,
     "metadata": {},
     "output_type": "execute_result"
    }
   ],
   "source": [
    "interaction_matrix_exploded[interaction_matrix_exploded['account'] != 0]"
   ]
  },
  {
   "cell_type": "code",
   "execution_count": 81,
   "id": "de6c77d8",
   "metadata": {},
   "outputs": [
    {
     "data": {
      "text/plain": [
       "(914597, 24)"
      ]
     },
     "execution_count": 81,
     "metadata": {},
     "output_type": "execute_result"
    }
   ],
   "source": [
    "recommendations[0].shape"
   ]
  },
  {
   "cell_type": "code",
   "execution_count": 67,
   "id": "3c3a1946",
   "metadata": {},
   "outputs": [
    {
     "data": {
      "text/plain": [
       "<map at 0x7f0670fd7820>"
      ]
     },
     "execution_count": 67,
     "metadata": {},
     "output_type": "execute_result"
    }
   ],
   "source": [
    "map(set,recommendations.tolist())"
   ]
  },
  {
   "cell_type": "markdown",
   "id": "4085ef70",
   "metadata": {},
   "source": [
    "## Model improvement"
   ]
  },
  {
   "cell_type": "code",
   "execution_count": null,
   "id": "c93f9b2b",
   "metadata": {},
   "outputs": [],
   "source": []
  },
  {
   "cell_type": "code",
   "execution_count": null,
   "id": "d51daae1",
   "metadata": {},
   "outputs": [],
   "source": []
  }
 ],
 "metadata": {
  "kernelspec": {
   "display_name": ".venv",
   "language": "python",
   "name": "python3"
  },
  "language_info": {
   "codemirror_mode": {
    "name": "ipython",
    "version": 3
   },
   "file_extension": ".py",
   "mimetype": "text/x-python",
   "name": "python",
   "nbconvert_exporter": "python",
   "pygments_lexer": "ipython3",
   "version": "3.10.12"
  }
 },
 "nbformat": 4,
 "nbformat_minor": 5
}
