{
 "cells": [
  {
   "cell_type": "code",
   "execution_count": 1,
   "id": "0dde1d49",
   "metadata": {},
   "outputs": [],
   "source": [
    "import pandas as pd\n",
    "import numpy as np\n",
    "import matplotlib.pyplot as plt\n",
    "import seaborn as sns\n",
    "import requests\n",
    "from datetime import datetime as dt\n",
    "import boto3\n",
    "from io import BytesIO\n",
    "import pickle\n",
    "import os\n",
    "from dotenv import load_dotenv\n",
    "import scipy\n",
    "from sklearn.preprocessing import LabelEncoder\n",
    "from implicit.als import AlternatingLeastSquares\n",
    "from sklearn.preprocessing import MinMaxScaler\n",
    "import sklearn\n",
    "\n",
    "plt.style.use('ggplot')\n",
    "\n"
   ]
  },
  {
   "cell_type": "code",
   "execution_count": 2,
   "id": "e7b84f4d",
   "metadata": {},
   "outputs": [],
   "source": [
    "load_dotenv()\n",
    "\n",
    "S3_BUCKET_NAME=os.getenv(\"S3_BUCKET_NAME\")\n",
    "AWS_ACCESS_KEY_ID=os.getenv(\"AWS_ACCESS_KEY_ID\")\n",
    "AWS_SECRET_ACCESS_KEY=os.getenv(\"AWS_SECRET_ACCESS_KEY\")"
   ]
  },
  {
   "cell_type": "code",
   "execution_count": 3,
   "id": "98516fa7",
   "metadata": {},
   "outputs": [],
   "source": [
    "# определение функций для работы с s3\n",
    "def upload_to_s3(df, file_name):\n",
    "    s3_client = boto3.client(\n",
    "        \"s3\",\n",
    "        endpoint_url='https://storage.yandexcloud.net',\n",
    "        aws_access_key_id=AWS_ACCESS_KEY_ID,\n",
    "        aws_secret_access_key=AWS_SECRET_ACCESS_KEY,\n",
    "    )\n",
    "    \n",
    "    with BytesIO() as buffer:\n",
    "        df.to_parquet(buffer)\n",
    "        buffer.seek(0)\n",
    "        s3_client.upload_fileobj(buffer, S3_BUCKET_NAME, file_name)\n",
    "    \n",
    "    \n",
    "def download_from_s3(file_name) -> pd.DataFrame:\n",
    "    s3_client = boto3.client(\n",
    "        \"s3\",\n",
    "        endpoint_url='https://storage.yandexcloud.net',\n",
    "        aws_access_key_id=AWS_ACCESS_KEY_ID,\n",
    "        aws_secret_access_key=AWS_SECRET_ACCESS_KEY,\n",
    "    )\n",
    "    with BytesIO() as buffer:\n",
    "        s3_client.download_fileobj(S3_BUCKET_NAME, file_name, buffer)\n",
    "        buffer.seek(0)\n",
    "        return pd.read_parquet(buffer)\n",
    "    \n",
    "    \n",
    "def upload_pickle_to_s3(object, file_name):\n",
    "    s3_client = boto3.client(\n",
    "        \"s3\",\n",
    "        endpoint_url='https://storage.yandexcloud.net',\n",
    "        aws_access_key_id=AWS_ACCESS_KEY_ID,\n",
    "        aws_secret_access_key=AWS_SECRET_ACCESS_KEY,\n",
    "    )\n",
    "    with BytesIO() as buffer:\n",
    "        pickle.dump(object, buffer)\n",
    "        buffer.seek(0)\n",
    "        s3_client.upload_fileobj(buffer, S3_BUCKET_NAME, file_name)\n",
    "        \n",
    "def download_pickle_from_s3(file_name):\n",
    "    s3_client = boto3.client(\n",
    "        \"s3\",\n",
    "        endpoint_url='https://storage.yandexcloud.net',\n",
    "        aws_access_key_id=AWS_ACCESS_KEY_ID,\n",
    "        aws_secret_access_key=AWS_SECRET_ACCESS_KEY,\n",
    "    )\n",
    "    with BytesIO() as buffer:\n",
    "        s3_client.download_fileobj(S3_BUCKET_NAME, file_name, buffer)\n",
    "        buffer.seek(0)\n",
    "        return pickle.load(buffer)"
   ]
  },
  {
   "cell_type": "markdown",
   "id": "10b16718",
   "metadata": {},
   "source": [
    "## Выгрузка данных"
   ]
  },
  {
   "cell_type": "code",
   "execution_count": 4,
   "id": "2970ac23",
   "metadata": {},
   "outputs": [],
   "source": [
    "data = download_from_s3('bank_products_processed.parquet')"
   ]
  },
  {
   "cell_type": "code",
   "execution_count": 5,
   "id": "25227168",
   "metadata": {},
   "outputs": [],
   "source": [
    "split_date = '2016-01-28'\n",
    "\n",
    "train_data = data[data['div_data'] <= split_date]\n",
    "test_data = data[data['div_data'] > split_date]\n"
   ]
  },
  {
   "cell_type": "code",
   "execution_count": 6,
   "id": "cd93ccae",
   "metadata": {},
   "outputs": [],
   "source": [
    "target_cols = [col for col in train_data.columns if col.startswith('acc_')]\n",
    "acc_to_id = {acc: id for id, acc in enumerate(target_cols)}\n",
    "id_to_acc = {id: acc for id, acc in enumerate(target_cols)}"
   ]
  },
  {
   "cell_type": "markdown",
   "id": "3274ae11",
   "metadata": {},
   "source": [
    "## Baseline model  \n",
    "Первый вариант модели с использованием только данных о взаимодействии клиентов с объектами"
   ]
  },
  {
   "cell_type": "code",
   "execution_count": null,
   "id": "47aac1b2",
   "metadata": {},
   "outputs": [],
   "source": []
  },
  {
   "cell_type": "code",
   "execution_count": 7,
   "id": "786ff524",
   "metadata": {},
   "outputs": [],
   "source": [
    "client_enc = LabelEncoder()"
   ]
  },
  {
   "cell_type": "code",
   "execution_count": 8,
   "id": "d0f6f3db",
   "metadata": {},
   "outputs": [
    {
     "name": "stderr",
     "output_type": "stream",
     "text": [
      "/tmp/ipykernel_28589/114229116.py:1: SettingWithCopyWarning: \n",
      "A value is trying to be set on a copy of a slice from a DataFrame.\n",
      "Try using .loc[row_indexer,col_indexer] = value instead\n",
      "\n",
      "See the caveats in the documentation: https://pandas.pydata.org/pandas-docs/stable/user_guide/indexing.html#returning-a-view-versus-a-copy\n",
      "  train_data['max_date'] = train_data['div_data'].max()\n",
      "/tmp/ipykernel_28589/114229116.py:2: SettingWithCopyWarning: \n",
      "A value is trying to be set on a copy of a slice from a DataFrame.\n",
      "Try using .loc[row_indexer,col_indexer] = value instead\n",
      "\n",
      "See the caveats in the documentation: https://pandas.pydata.org/pandas-docs/stable/user_guide/indexing.html#returning-a-view-versus-a-copy\n",
      "  test_data['max_date'] = test_data['div_data'].max()\n",
      "/tmp/ipykernel_28589/114229116.py:4: SettingWithCopyWarning: \n",
      "A value is trying to be set on a copy of a slice from a DataFrame.\n",
      "Try using .loc[row_indexer,col_indexer] = value instead\n",
      "\n",
      "See the caveats in the documentation: https://pandas.pydata.org/pandas-docs/stable/user_guide/indexing.html#returning-a-view-versus-a-copy\n",
      "  train_data['days_from_max_date'] = (train_data['max_date'] - train_data['div_data']).dt.days\n",
      "/tmp/ipykernel_28589/114229116.py:5: SettingWithCopyWarning: \n",
      "A value is trying to be set on a copy of a slice from a DataFrame.\n",
      "Try using .loc[row_indexer,col_indexer] = value instead\n",
      "\n",
      "See the caveats in the documentation: https://pandas.pydata.org/pandas-docs/stable/user_guide/indexing.html#returning-a-view-versus-a-copy\n",
      "  test_data['days_from_max_date'] = (test_data['max_date'] - test_data['div_data']).dt.days\n",
      "/tmp/ipykernel_28589/114229116.py:7: SettingWithCopyWarning: \n",
      "A value is trying to be set on a copy of a slice from a DataFrame.\n",
      "Try using .loc[row_indexer,col_indexer] = value instead\n",
      "\n",
      "See the caveats in the documentation: https://pandas.pydata.org/pandas-docs/stable/user_guide/indexing.html#returning-a-view-versus-a-copy\n",
      "  train_data['days_from_max_date'] = train_data['days_from_max_date'].astype(int)\n",
      "/tmp/ipykernel_28589/114229116.py:8: SettingWithCopyWarning: \n",
      "A value is trying to be set on a copy of a slice from a DataFrame.\n",
      "Try using .loc[row_indexer,col_indexer] = value instead\n",
      "\n",
      "See the caveats in the documentation: https://pandas.pydata.org/pandas-docs/stable/user_guide/indexing.html#returning-a-view-versus-a-copy\n",
      "  test_data['days_from_max_date'] = test_data['days_from_max_date'].astype(int)\n",
      "/tmp/ipykernel_28589/114229116.py:10: SettingWithCopyWarning: \n",
      "A value is trying to be set on a copy of a slice from a DataFrame.\n",
      "Try using .loc[row_indexer,col_indexer] = value instead\n",
      "\n",
      "See the caveats in the documentation: https://pandas.pydata.org/pandas-docs/stable/user_guide/indexing.html#returning-a-view-versus-a-copy\n",
      "  train_data['weight'] = train_data['days_from_max_date'] / train_data['days_from_max_date'].max()\n",
      "/tmp/ipykernel_28589/114229116.py:11: SettingWithCopyWarning: \n",
      "A value is trying to be set on a copy of a slice from a DataFrame.\n",
      "Try using .loc[row_indexer,col_indexer] = value instead\n",
      "\n",
      "See the caveats in the documentation: https://pandas.pydata.org/pandas-docs/stable/user_guide/indexing.html#returning-a-view-versus-a-copy\n",
      "  test_data['weight'] = test_data['days_from_max_date'] / test_data['days_from_max_date'].max()\n"
     ]
    }
   ],
   "source": [
    "train_data['max_date'] = train_data['div_data'].max()\n",
    "test_data['max_date'] = test_data['div_data'].max()\n",
    "\n",
    "train_data['days_from_max_date'] = (train_data['max_date'] - train_data['div_data']).dt.days\n",
    "test_data['days_from_max_date'] = (test_data['max_date'] - test_data['div_data']).dt.days\n",
    "\n",
    "train_data['days_from_max_date'] = train_data['days_from_max_date'].astype(int)\n",
    "test_data['days_from_max_date'] = test_data['days_from_max_date'].astype(int)\n",
    "\n",
    "train_data['weight'] = train_data['days_from_max_date'] / train_data['days_from_max_date'].max()\n",
    "test_data['weight'] = test_data['days_from_max_date'] / test_data['days_from_max_date'].max()\n"
   ]
  },
  {
   "cell_type": "code",
   "execution_count": 9,
   "id": "0d4fc05d",
   "metadata": {},
   "outputs": [
    {
     "name": "stderr",
     "output_type": "stream",
     "text": [
      "/tmp/ipykernel_28589/759098843.py:2: SettingWithCopyWarning: \n",
      "A value is trying to be set on a copy of a slice from a DataFrame.\n",
      "Try using .loc[row_indexer,col_indexer] = value instead\n",
      "\n",
      "See the caveats in the documentation: https://pandas.pydata.org/pandas-docs/stable/user_guide/indexing.html#returning-a-view-versus-a-copy\n",
      "  train_data[target] = train_data[target] * train_data['weight']\n",
      "/tmp/ipykernel_28589/759098843.py:3: SettingWithCopyWarning: \n",
      "A value is trying to be set on a copy of a slice from a DataFrame.\n",
      "Try using .loc[row_indexer,col_indexer] = value instead\n",
      "\n",
      "See the caveats in the documentation: https://pandas.pydata.org/pandas-docs/stable/user_guide/indexing.html#returning-a-view-versus-a-copy\n",
      "  test_data[target] = test_data[target] * test_data['weight']\n"
     ]
    }
   ],
   "source": [
    "for target in target_cols:\n",
    "    train_data[target] = train_data[target] * train_data['weight']\n",
    "    test_data[target] = test_data[target] * test_data['weight']"
   ]
  },
  {
   "cell_type": "code",
   "execution_count": 10,
   "id": "2ba6ec32",
   "metadata": {},
   "outputs": [],
   "source": [
    "interaction_matrix = train_data[['client_id'] + target_cols]\n",
    "\n",
    "interaction_matrix = interaction_matrix.groupby('client_id').sum().reset_index()"
   ]
  },
  {
   "cell_type": "code",
   "execution_count": 11,
   "id": "b2f6aa1c",
   "metadata": {},
   "outputs": [
    {
     "data": {
      "text/plain": [
       "(927690, 25)"
      ]
     },
     "execution_count": 11,
     "metadata": {},
     "output_type": "execute_result"
    }
   ],
   "source": [
    "interaction_matrix.shape"
   ]
  },
  {
   "cell_type": "code",
   "execution_count": 12,
   "id": "d8f14311",
   "metadata": {},
   "outputs": [],
   "source": [
    "acc_to_id = {acc: id for id, acc in enumerate(target_cols)}\n",
    "id_to_acc = {id: acc for id, acc in enumerate(target_cols)}"
   ]
  },
  {
   "cell_type": "code",
   "execution_count": 13,
   "id": "938d6431",
   "metadata": {},
   "outputs": [],
   "source": [
    "interaction_matrix['accounts'] = [[targets] for targets in interaction_matrix[target_cols].values]\n",
    "interaction_matrix['accounts'] = interaction_matrix['accounts'].apply(lambda x: x[0])\n",
    "interaction_matrix['accounts_name'] = [list(id_to_acc.keys())] * interaction_matrix.shape[0]"
   ]
  },
  {
   "cell_type": "code",
   "execution_count": 14,
   "id": "d1ebf654",
   "metadata": {},
   "outputs": [],
   "source": [
    "interaction_matrix = interaction_matrix[['client_id', 'accounts', 'accounts_name']]\n",
    "del train_data\n"
   ]
  },
  {
   "cell_type": "code",
   "execution_count": 15,
   "id": "62255822",
   "metadata": {},
   "outputs": [
    {
     "data": {
      "text/html": [
       "<div>\n",
       "<style scoped>\n",
       "    .dataframe tbody tr th:only-of-type {\n",
       "        vertical-align: middle;\n",
       "    }\n",
       "\n",
       "    .dataframe tbody tr th {\n",
       "        vertical-align: top;\n",
       "    }\n",
       "\n",
       "    .dataframe thead th {\n",
       "        text-align: right;\n",
       "    }\n",
       "</style>\n",
       "<table border=\"1\" class=\"dataframe\">\n",
       "  <thead>\n",
       "    <tr style=\"text-align: right;\">\n",
       "      <th></th>\n",
       "      <th>client_id</th>\n",
       "      <th>account</th>\n",
       "      <th>account_name</th>\n",
       "    </tr>\n",
       "  </thead>\n",
       "  <tbody>\n",
       "    <tr>\n",
       "      <th>2</th>\n",
       "      <td>15889</td>\n",
       "      <td>6.860274</td>\n",
       "      <td>2</td>\n",
       "    </tr>\n",
       "    <tr>\n",
       "      <th>8</th>\n",
       "      <td>15889</td>\n",
       "      <td>6.860274</td>\n",
       "      <td>8</td>\n",
       "    </tr>\n",
       "    <tr>\n",
       "      <th>18</th>\n",
       "      <td>15889</td>\n",
       "      <td>2.846575</td>\n",
       "      <td>18</td>\n",
       "    </tr>\n",
       "    <tr>\n",
       "      <th>19</th>\n",
       "      <td>15889</td>\n",
       "      <td>6.860274</td>\n",
       "      <td>19</td>\n",
       "    </tr>\n",
       "    <tr>\n",
       "      <th>28</th>\n",
       "      <td>15890</td>\n",
       "      <td>6.860274</td>\n",
       "      <td>4</td>\n",
       "    </tr>\n",
       "  </tbody>\n",
       "</table>\n",
       "</div>"
      ],
      "text/plain": [
       "    client_id   account  account_name\n",
       "2       15889  6.860274             2\n",
       "8       15889  6.860274             8\n",
       "18      15889  2.846575            18\n",
       "19      15889  6.860274            19\n",
       "28      15890  6.860274             4"
      ]
     },
     "execution_count": 15,
     "metadata": {},
     "output_type": "execute_result"
    }
   ],
   "source": [
    "# interaction_matrix = interaction_matrix[['client_id', 'accounts', 'accounts_name']].explode(['accounts', 'accounts_name'])\n",
    "\n",
    "interaction_matrix_exploded = list()\n",
    "interaction_matrix = interaction_matrix.values\n",
    "\n",
    "for row in interaction_matrix:\n",
    "    accounts = row[1]\n",
    "    accounts_name = row[2]\n",
    "    client_id = row[0]\n",
    "    for account, account_name in zip(accounts, accounts_name):\n",
    "        interaction_matrix_exploded.append((client_id, account, account_name))\n",
    "\n",
    "interaction_matrix_exploded = pd.DataFrame(interaction_matrix_exploded, columns=['client_id', 'account', 'account_name'])\n",
    "interaction_matrix_exploded = interaction_matrix_exploded[interaction_matrix_exploded['account'] > 0]\n",
    "interaction_matrix_exploded.head()"
   ]
  },
  {
   "cell_type": "code",
   "execution_count": null,
   "id": "69520370",
   "metadata": {},
   "outputs": [],
   "source": [
    "\n",
    "    "
   ]
  },
  {
   "cell_type": "code",
   "execution_count": 16,
   "id": "2109901d",
   "metadata": {},
   "outputs": [],
   "source": [
    "# interaction_matrix_exploded['account'] = scaler.fit_transform(interaction_matrix_exploded[['account']])\n",
    "interaction_matrix_exploded['client_id'] = client_enc.fit_transform(interaction_matrix_exploded['client_id'])\n"
   ]
  },
  {
   "cell_type": "code",
   "execution_count": 17,
   "id": "bdef2f4e",
   "metadata": {},
   "outputs": [],
   "source": [
    "# создаём sparse-матрицу формата CSR \n",
    "user_item_matrix_train = scipy.sparse.csr_matrix((\n",
    "    interaction_matrix_exploded[\"account\"],\n",
    "    (interaction_matrix_exploded['client_id'], interaction_matrix_exploded['account_name'])),\n",
    "    dtype=np.float32)"
   ]
  },
  {
   "cell_type": "code",
   "execution_count": 18,
   "id": "54110866",
   "metadata": {},
   "outputs": [
    {
     "name": "stderr",
     "output_type": "stream",
     "text": [
      "/home/mle-user/mle-final-project/.venv/lib/python3.10/site-packages/implicit/cpu/als.py:95: RuntimeWarning: OpenBLAS is configured to use 4 threads. It is highly recommended to disable its internal threadpool by setting the environment variable 'OPENBLAS_NUM_THREADS=1' or by calling 'threadpoolctl.threadpool_limits(1, \"blas\")'. Having OpenBLAS use a threadpool can lead to severe performance issues here.\n",
      "  check_blas_config()\n"
     ]
    },
    {
     "data": {
      "application/vnd.jupyter.widget-view+json": {
       "model_id": "a52b3a87749a4c95a1e1efd9d39b9687",
       "version_major": 2,
       "version_minor": 0
      },
      "text/plain": [
       "  0%|          | 0/50 [00:00<?, ?it/s]"
      ]
     },
     "metadata": {},
     "output_type": "display_data"
    }
   ],
   "source": [
    "als_model = AlternatingLeastSquares(factors=50, iterations=50, regularization=0.05, random_state=0)\n",
    "als_model.fit(user_item_matrix_train)"
   ]
  },
  {
   "cell_type": "code",
   "execution_count": 19,
   "id": "458e9762",
   "metadata": {},
   "outputs": [],
   "source": [
    "upload_pickle_to_s3(als_model, 'als_model.pkl')\n",
    "upload_pickle_to_s3(client_enc, 'client_enc.pkl')\n",
    "upload_pickle_to_s3(user_item_matrix_train, 'user_item_matrix_train.pkl')"
   ]
  },
  {
   "cell_type": "markdown",
   "id": "9ec57769",
   "metadata": {},
   "source": [
    "## Model evaluation"
   ]
  },
  {
   "cell_type": "code",
   "execution_count": 7,
   "id": "c192e4f0",
   "metadata": {},
   "outputs": [],
   "source": [
    "def create_interaction_matrix(data: pd.DataFrame):\n",
    "    \n",
    "    data['max_date'] = data['div_data'].max()\n",
    "    data['days_from_max_date'] = (data['max_date'] - data['div_data']).dt.days\n",
    "    data['days_from_max_date'] = data['days_from_max_date'].astype(int)\n",
    "    data['weight'] = data['days_from_max_date'] / data['days_from_max_date'].max()\n",
    "    \n",
    "    for target in target_cols:\n",
    "        data[target] = data[target] * data['weight']\n",
    "\n",
    "    interaction_matrix = data[['client_id'] + target_cols]\n",
    "    interaction_matrix = interaction_matrix.groupby('client_id').sum().reset_index()\n",
    "    \n",
    "    interaction_matrix['accounts'] = [[targets] for targets in interaction_matrix[target_cols].values]\n",
    "    interaction_matrix['accounts'] = interaction_matrix['accounts'].apply(lambda x: x[0])\n",
    "    interaction_matrix['accounts_name'] = [list(id_to_acc.keys())] * interaction_matrix.shape[0]\n",
    "    \n",
    "    interaction_matrix = interaction_matrix[['client_id', 'accounts', 'accounts_name']]\n",
    "    \n",
    "    interaction_matrix_exploded = list()\n",
    "    interaction_matrix = interaction_matrix.values\n",
    "\n",
    "    for row in interaction_matrix:\n",
    "        accounts = row[1]\n",
    "        accounts_name = row[2]\n",
    "        client_id = row[0]\n",
    "        for account, account_name in zip(accounts, accounts_name):\n",
    "            interaction_matrix_exploded.append((client_id, account, account_name))\n",
    "\n",
    "    interaction_matrix_exploded = pd.DataFrame(interaction_matrix_exploded, columns=['client_id', 'account', 'account_name'])\n",
    "    interaction_matrix_exploded = interaction_matrix_exploded[interaction_matrix_exploded['account'] > 0]\n",
    "\n",
    "    \n",
    "    return interaction_matrix_exploded"
   ]
  },
  {
   "cell_type": "code",
   "execution_count": 8,
   "id": "13d991a3",
   "metadata": {},
   "outputs": [
    {
     "name": "stderr",
     "output_type": "stream",
     "text": [
      "/home/mle-user/mle-final-project/.venv/lib/python3.10/site-packages/sklearn/base.py:442: InconsistentVersionWarning: Trying to unpickle estimator LabelEncoder from version 1.3.1 when using version 1.7.1. This might lead to breaking code or invalid results. Use at your own risk. For more info please refer to:\n",
      "https://scikit-learn.org/stable/model_persistence.html#security-maintainability-limitations\n",
      "  warnings.warn(\n"
     ]
    }
   ],
   "source": [
    "als_model = download_pickle_from_s3('als_model.pkl')\n",
    "client_enc = download_pickle_from_s3('client_enc.pkl')\n",
    "user_item_matrix_train = download_pickle_from_s3('user_item_matrix_train.pkl')"
   ]
  },
  {
   "cell_type": "code",
   "execution_count": 9,
   "id": "5c53cb80",
   "metadata": {},
   "outputs": [],
   "source": [
    "test_clients = [client for client in test_data['client_id'].unique() if client in client_enc.classes_]\n",
    "test_clients_encoded = client_enc.transform(test_clients)\n",
    "recommendations = als_model.recommend(test_clients_encoded, user_item_matrix_train[test_clients_encoded], filter_already_liked_items=True, N=5)"
   ]
  },
  {
   "cell_type": "code",
   "execution_count": 10,
   "id": "a265f24e",
   "metadata": {},
   "outputs": [
    {
     "name": "stderr",
     "output_type": "stream",
     "text": [
      "/tmp/ipykernel_4011/1149997310.py:3: SettingWithCopyWarning: \n",
      "A value is trying to be set on a copy of a slice from a DataFrame.\n",
      "Try using .loc[row_indexer,col_indexer] = value instead\n",
      "\n",
      "See the caveats in the documentation: https://pandas.pydata.org/pandas-docs/stable/user_guide/indexing.html#returning-a-view-versus-a-copy\n",
      "  data['max_date'] = data['div_data'].max()\n",
      "/tmp/ipykernel_4011/1149997310.py:4: SettingWithCopyWarning: \n",
      "A value is trying to be set on a copy of a slice from a DataFrame.\n",
      "Try using .loc[row_indexer,col_indexer] = value instead\n",
      "\n",
      "See the caveats in the documentation: https://pandas.pydata.org/pandas-docs/stable/user_guide/indexing.html#returning-a-view-versus-a-copy\n",
      "  data['days_from_max_date'] = (data['max_date'] - data['div_data']).dt.days\n",
      "/tmp/ipykernel_4011/1149997310.py:5: SettingWithCopyWarning: \n",
      "A value is trying to be set on a copy of a slice from a DataFrame.\n",
      "Try using .loc[row_indexer,col_indexer] = value instead\n",
      "\n",
      "See the caveats in the documentation: https://pandas.pydata.org/pandas-docs/stable/user_guide/indexing.html#returning-a-view-versus-a-copy\n",
      "  data['days_from_max_date'] = data['days_from_max_date'].astype(int)\n",
      "/tmp/ipykernel_4011/1149997310.py:6: SettingWithCopyWarning: \n",
      "A value is trying to be set on a copy of a slice from a DataFrame.\n",
      "Try using .loc[row_indexer,col_indexer] = value instead\n",
      "\n",
      "See the caveats in the documentation: https://pandas.pydata.org/pandas-docs/stable/user_guide/indexing.html#returning-a-view-versus-a-copy\n",
      "  data['weight'] = data['days_from_max_date'] / data['days_from_max_date'].max()\n",
      "/tmp/ipykernel_4011/1149997310.py:9: SettingWithCopyWarning: \n",
      "A value is trying to be set on a copy of a slice from a DataFrame.\n",
      "Try using .loc[row_indexer,col_indexer] = value instead\n",
      "\n",
      "See the caveats in the documentation: https://pandas.pydata.org/pandas-docs/stable/user_guide/indexing.html#returning-a-view-versus-a-copy\n",
      "  data[target] = data[target] * data['weight']\n"
     ]
    }
   ],
   "source": [
    "test_interaction_matrix = create_interaction_matrix(test_data)"
   ]
  },
  {
   "cell_type": "code",
   "execution_count": 11,
   "id": "77348c76",
   "metadata": {},
   "outputs": [],
   "source": [
    "test_interaction_matrix.rename(columns={'account': 'rating', 'account_name': 'account_id'}, inplace=True)"
   ]
  },
  {
   "cell_type": "code",
   "execution_count": 12,
   "id": "a2928806",
   "metadata": {},
   "outputs": [],
   "source": [
    "# преобразуем полученные рекомендации в табличный формат\n",
    "item_ids_enc = recommendations[0]\n",
    "als_scores = recommendations[1]\n",
    "\n",
    "als_recommendations = pd.DataFrame({\n",
    "    \"user_id_enc\": test_clients_encoded,\n",
    "    \"item_id_enc\": item_ids_enc.tolist(), \n",
    "    \"score\": als_scores.tolist()})\n",
    "als_recommendations = als_recommendations.explode([\"item_id_enc\", \"score\"], ignore_index=True)\n",
    "\n",
    "# приводим типы данных\n",
    "als_recommendations[\"item_id_enc\"] = als_recommendations[\"item_id_enc\"].astype(\"int\")\n",
    "als_recommendations[\"score\"] = als_recommendations[\"score\"].astype(\"float\")\n",
    "\n",
    "# получаем изначальные идентификаторы\n",
    "als_recommendations[\"user_id\"] = client_enc.inverse_transform(als_recommendations[\"user_id_enc\"])\n",
    "# als_recommendations[\"item_id\"] = als_recommendations[\"item_id_enc\"].map(id_to_acc)\n",
    "als_recommendations = als_recommendations.drop(columns=[\"user_id_enc\"])"
   ]
  },
  {
   "cell_type": "code",
   "execution_count": null,
   "id": "527ccbe0",
   "metadata": {},
   "outputs": [],
   "source": []
  },
  {
   "cell_type": "code",
   "execution_count": 13,
   "id": "84b8c828",
   "metadata": {},
   "outputs": [],
   "source": [
    "def compute_ndcg(rating: pd.Series, score: pd.Series, k):\n",
    "\n",
    "    \"\"\" подсчёт ndcg\n",
    "    rating: истинные оценки\n",
    "    score: оценки модели\n",
    "    k: количество айтемов (по убыванию score) для оценки, остальные - отбрасываются\n",
    "    \"\"\"\n",
    "    \n",
    "    # если кол-во объектов меньше 2, то NDCG - не определена\n",
    "    if len(rating) < 2:\n",
    "        return np.nan\n",
    "\n",
    "    ndcg = sklearn.metrics.ndcg_score(np.asarray([rating.to_numpy()]), np.asarray([score.to_numpy()]), k=k)\n",
    "\n",
    "    return ndcg\n",
    "\n",
    "def compute_hit_rate(items: pd.Series, recommendations: pd.Series, k: int = 5):\n",
    "\n",
    "    \"\"\" подсчёт hit rate\n",
    "    items: истинные айтемы\n",
    "    recommendations: рекоменуемые айтемы\n",
    "    k: количество айтемов (по убыванию score) для оценки, остальные - отбрасываются\n",
    "    \"\"\"\n",
    "    hit_cnt = 0\n",
    "    rate_cnt = 0\n",
    "    \n",
    "    for rec_item in recommendations:\n",
    "        if rec_item in items:\n",
    "            rate_cnt += 1\n",
    "        hit_cnt += 1\n",
    "        if hit_cnt >= k:\n",
    "            break\n",
    "    return rate_cnt / len(items)\n",
    "\n",
    "def process_events_recs_for_binary_metrics(events_train, events_test, recs, top_k=None):\n",
    "\n",
    "    \"\"\"\n",
    "    размечает пары <user_id, item_id> для общего множества пользователей признаками\n",
    "    - gt (ground truth)\n",
    "    - pr (prediction)\n",
    "    top_k: расчёт ведётся только для top k-рекомендаций\n",
    "    \"\"\"\n",
    "\n",
    "    events_test[\"gt\"] = True\n",
    "    common_users = set(events_test[\"user_id\"]) & set(recs[\"user_id\"])\n",
    "\n",
    "    print(f\"Common users: {len(common_users)}\")\n",
    "    \n",
    "    events_for_common_users = events_test[events_test[\"user_id\"].isin(common_users)].copy()\n",
    "    recs_for_common_users = recs[recs[\"user_id\"].isin(common_users)].copy()\n",
    "\n",
    "    recs_for_common_users = recs_for_common_users.sort_values([\"user_id\", \"score\"], ascending=[True, False])\n",
    "\n",
    "    # оставляет только те item_id, которые были в events_train, \n",
    "    # т. к. модель не имела никакой возможности давать рекомендации для новых айтемов\n",
    "    # events_for_common_users = events_for_common_users[events_for_common_users[\"item_id\"].isin(events_train[\"item_id\"].unique())]\n",
    "\n",
    "    if top_k is not None:\n",
    "        recs_for_common_users = recs_for_common_users.groupby(\"user_id\").head(top_k)\n",
    "    \n",
    "    events_recs_common = events_for_common_users[[\"user_id\", \"item_id\", \"gt\"]].merge(\n",
    "        recs_for_common_users[[\"user_id\", \"item_id\", \"score\"]], \n",
    "        on=[\"user_id\", \"item_id\"], how=\"outer\")    \n",
    "\n",
    "    events_recs_common[\"gt\"] = events_recs_common[\"gt\"].fillna(False)\n",
    "    events_recs_common[\"pr\"] = ~events_recs_common[\"score\"].isnull()\n",
    "    \n",
    "    events_recs_common[\"tp\"] = events_recs_common[\"gt\"] & events_recs_common[\"pr\"]\n",
    "    events_recs_common[\"fp\"] = ~events_recs_common[\"gt\"] & events_recs_common[\"pr\"]\n",
    "    events_recs_common[\"fn\"] = events_recs_common[\"gt\"] & ~events_recs_common[\"pr\"]\n",
    "\n",
    "    return events_recs_common \n",
    "\n",
    "def compute_cls_metrics(events_recs_for_binary_metric):\n",
    "    \n",
    "    groupper = events_recs_for_binary_metric.groupby(\"user_id\")\n",
    "\n",
    "    # precision = tp / (tp + fp)\n",
    "    precision = groupper[\"tp\"].sum()/(groupper[\"tp\"].sum()+groupper[\"fp\"].sum())\n",
    "    precision = precision.fillna(0).mean()\n",
    "    \n",
    "    # recall = tp / (tp + fn)\n",
    "    recall = groupper[\"tp\"].sum()/(groupper[\"tp\"].sum()+groupper[\"fn\"].sum())\n",
    "    recall = recall.fillna(0).mean()\n",
    "\n",
    "    return precision, recall "
   ]
  },
  {
   "cell_type": "code",
   "execution_count": 14,
   "id": "b2803406",
   "metadata": {},
   "outputs": [
    {
     "name": "stdout",
     "output_type": "stream",
     "text": [
      "Users coverage: 0.7443695569536453\n",
      "Items coverage: 1.0\n"
     ]
    }
   ],
   "source": [
    "users_coverage = len(als_recommendations['user_id'].unique()) / len(test_data['client_id'].unique())\n",
    "items_coverage = len(als_recommendations['item_id_enc'].unique()) / len(target_cols)\n",
    "\n",
    "print(f\"Users coverage: {users_coverage}\")\n",
    "print(f\"Items coverage: {items_coverage}\")"
   ]
  },
  {
   "cell_type": "code",
   "execution_count": 15,
   "id": "57fbc010",
   "metadata": {},
   "outputs": [],
   "source": [
    "als_recommendations = (\n",
    "    als_recommendations\n",
    "    .merge(test_interaction_matrix.rename(columns={\"client_id\": \"user_id\", \"account_id\": \"item_id_enc\"}), \n",
    "           on=[\"user_id\", \"item_id_enc\"], how=\"left\")\n",
    ")\n"
   ]
  },
  {
   "cell_type": "code",
   "execution_count": 16,
   "id": "8452e91f",
   "metadata": {},
   "outputs": [
    {
     "name": "stdout",
     "output_type": "stream",
     "text": [
      "NDCG at 5: 0.9683827217035406\n"
     ]
    }
   ],
   "source": [
    "rating_test_idx = ~als_recommendations[\"rating\"].isnull()\n",
    "ndcg_at_5_scores = als_recommendations[rating_test_idx].groupby(\"user_id\").apply(lambda x: compute_ndcg(x[\"rating\"], x[\"score\"], k=5))\n",
    "hit_at_5_scores = als_recommendations.groupby(\"user_id\").apply(lambda x: compute_hit_rate(x[\"rating\"], x[\"score\"], k=5))\n",
    "# ndcg_at_5_scores = als_recommendations[rating_test_idx].groupby(\"user_id\").apply(lambda x: compute_ndcg(x[\"rating\"], x[\"score\"], k=5))\n",
    "\n",
    "print(f\"NDCG at 5: {ndcg_at_5_scores.mean()}\")"
   ]
  },
  {
   "cell_type": "code",
   "execution_count": 17,
   "id": "c87f3c76",
   "metadata": {},
   "outputs": [
    {
     "name": "stdout",
     "output_type": "stream",
     "text": [
      "Common users: 681540\n"
     ]
    }
   ],
   "source": [
    "precision_5, recall_5 = compute_cls_metrics(process_events_recs_for_binary_metrics(\n",
    "  None,\n",
    "    test_interaction_matrix.rename(columns={\"client_id\": \"user_id\", \"account_id\": \"item_id\"}), \n",
    "    als_recommendations.rename(columns={\"item_id_enc\": \"item_id\"}), \n",
    "    top_k=5) )\n"
   ]
  },
  {
   "cell_type": "code",
   "execution_count": 18,
   "id": "fd43bdf2",
   "metadata": {},
   "outputs": [
    {
     "name": "stdout",
     "output_type": "stream",
     "text": [
      "Precision at 5: 0.006006690729817766, Recall at 5: 0.010828292579106913\n"
     ]
    }
   ],
   "source": [
    "print(f\"Precision at 5: {precision_5}, Recall at 5: {recall_5}\")\n"
   ]
  },
  {
   "cell_type": "markdown",
   "id": "4085ef70",
   "metadata": {},
   "source": [
    "## Логирование в MlFlow"
   ]
  },
  {
   "cell_type": "code",
   "execution_count": 19,
   "id": "222f798a",
   "metadata": {},
   "outputs": [
    {
     "name": "stderr",
     "output_type": "stream",
     "text": [
      "/home/mle-user/mle-final-project/.venv/lib/python3.10/site-packages/pydantic/_internal/_config.py:373: UserWarning: Valid config keys have changed in V2:\n",
      "* 'schema_extra' has been renamed to 'json_schema_extra'\n",
      "  warnings.warn(message, UserWarning)\n"
     ]
    }
   ],
   "source": [
    "import mlflow"
   ]
  },
  {
   "cell_type": "code",
   "execution_count": 35,
   "id": "c93f9b2b",
   "metadata": {},
   "outputs": [],
   "source": [
    "# константы для логирования в mlflow\n",
    "\n",
    "EXPERIMENT_NAME = \"final_project_bank_alexdem\"\n",
    "\n",
    "\n",
    "os.environ[\"MLFLOW_S3_ENDPOINT_URL\"] = \"https://storage.yandexcloud.net\"\n",
    "os.environ[\"AWS_ACCESS_KEY_ID\"] = os.getenv(\"AWS_ACCESS_KEY_ID\")\n",
    "os.environ[\"AWS_SECRET_ACCESS_KEY\"] = os.getenv(\"AWS_SECRET_ACCESS_KEY\")\n",
    "\n",
    "TRACKING_SERVER_HOST = \"127.0.0.1\"\n",
    "TRACKING_SERVER_PORT = 5020\n",
    "\n",
    "mlflow.set_tracking_uri(f\"http://{TRACKING_SERVER_HOST}:{TRACKING_SERVER_PORT}\")\n",
    "mlflow.set_registry_uri(f\"http://{TRACKING_SERVER_HOST}:{TRACKING_SERVER_PORT}\")"
   ]
  },
  {
   "cell_type": "code",
   "execution_count": null,
   "id": "47545ac3",
   "metadata": {},
   "outputs": [],
   "source": []
  },
  {
   "cell_type": "code",
   "execution_count": 37,
   "id": "d51daae1",
   "metadata": {},
   "outputs": [
    {
     "name": "stderr",
     "output_type": "stream",
     "text": [
      "2025/09/05 14:35:26 WARNING mlflow.sklearn: Model was missing function: predict. Not logging python_function flavor!\n",
      "Registered model 'model_als_bank_alexdem' already exists. Creating a new version of this model...\n",
      "2025/09/05 14:35:27 INFO mlflow.tracking._model_registry.client: Waiting up to 60 seconds for model version to finish creation. Model name: model_als_bank_alexdem, version 2\n",
      "Created version '2' of model 'model_als_bank_alexdem'.\n"
     ]
    }
   ],
   "source": [
    "RUN_NAME = \"baseline_als_model_bank\"\n",
    "REGISTRY_MODEL_NAME = \"model_als_bank_alexdem\"\n",
    "\n",
    "pip_requirements= \"../requirements.txt\"\n",
    "signature = mlflow.models.infer_signature(user_item_matrix_train.toarray(), np.array(recommendations))\n",
    "input_example = test_clients_encoded[:10]\n",
    "\n",
    "\n",
    "experiment_id = mlflow.get_experiment_by_name(EXPERIMENT_NAME).experiment_id\n",
    "\n",
    "with mlflow.start_run(run_name=RUN_NAME, experiment_id=experiment_id) as run:\n",
    "    run_id = run.info.run_id\n",
    "    \n",
    "    model_info = mlflow.sklearn.log_model( \n",
    "\t\t\t      als_model,\n",
    "            artifact_path=\"models\",\n",
    "            registered_model_name=REGISTRY_MODEL_NAME,\n",
    "            pip_requirements=pip_requirements,\n",
    "            signature=signature,\n",
    "            input_example=input_example,\n",
    "            await_registration_for=60\n",
    "\t\t)\n",
    "    mlflow.log_metrics({'precision_5': precision_5, 'recall_5': recall_5, 'ndcg_5': ndcg_at_5_scores.mean(), \"users_coverage\": users_coverage, \"items_coverage\": items_coverage})\n",
    "    mlflow.log_artifact(\"train_model_baseline.ipynb\")\n"
   ]
  },
  {
   "cell_type": "code",
   "execution_count": null,
   "id": "df00cf8a",
   "metadata": {},
   "outputs": [],
   "source": []
  }
 ],
 "metadata": {
  "kernelspec": {
   "display_name": ".venv",
   "language": "python",
   "name": "python3"
  },
  "language_info": {
   "codemirror_mode": {
    "name": "ipython",
    "version": 3
   },
   "file_extension": ".py",
   "mimetype": "text/x-python",
   "name": "python",
   "nbconvert_exporter": "python",
   "pygments_lexer": "ipython3",
   "version": "3.10.12"
  }
 },
 "nbformat": 4,
 "nbformat_minor": 5
}
