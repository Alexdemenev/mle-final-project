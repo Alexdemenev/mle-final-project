{
 "cells": [
  {
   "cell_type": "markdown",
   "id": "19bb21b6",
   "metadata": {},
   "source": [
    "### Установка библиотек\n"
   ]
  },
  {
   "cell_type": "code",
   "execution_count": 1,
   "id": "3d61e292",
   "metadata": {},
   "outputs": [],
   "source": [
    "\n",
    "import pandas as pd\n",
    "import numpy as np\n",
    "import matplotlib.pyplot as plt\n",
    "import seaborn as sns\n",
    "import requests\n",
    "from sqlalchemy import (\n",
    "    create_engine, \n",
    "    MetaData, \n",
    "    UniqueConstraint, \n",
    "    Table, \n",
    "    Column, \n",
    "    Integer, \n",
    "    String, \n",
    "    Float, \n",
    "    DateTime, \n",
    "    Boolean, \n",
    "    ForeignKey,\n",
    "    Index,\n",
    "    inspect)\n",
    "from dotenv import load_dotenv\n",
    "from datetime import datetime as dt\n",
    "import os\n",
    "import io\n",
    "\n",
    "plt.style.use('ggplot')\n"
   ]
  },
  {
   "cell_type": "code",
   "execution_count": 2,
   "id": "1948186e",
   "metadata": {},
   "outputs": [],
   "source": [
    "ASSETS_DIR = 'assets'\n",
    "\n",
    "os.makedirs(ASSETS_DIR, exist_ok=True)\n"
   ]
  },
  {
   "cell_type": "code",
   "execution_count": 3,
   "id": "95a93de3",
   "metadata": {},
   "outputs": [],
   "source": [
    "# credentials\n",
    "\n",
    "load_dotenv()\n",
    "\n",
    "DB_DESTINATION_HOST = os.getenv('DB_DESTINATION_HOST')\n",
    "DB_DESTINATION_PORT = os.getenv('DB_DESTINATION_PORT')\n",
    "DB_DESTINATION_USER = os.getenv('DB_DESTINATION_USER')\n",
    "DB_DESTINATION_PASSWORD = os.getenv('DB_DESTINATION_PASSWORD')\n",
    "DB_DESTINATION_NAME = os.getenv('DB_DESTINATION_NAME')"
   ]
  },
  {
   "cell_type": "markdown",
   "id": "21f6262d",
   "metadata": {},
   "source": [
    "### Загрузка данных\n"
   ]
  },
  {
   "cell_type": "code",
   "execution_count": 3,
   "id": "7f908076",
   "metadata": {},
   "outputs": [
    {
     "name": "stderr",
     "output_type": "stream",
     "text": [
      "/tmp/ipykernel_3820/1861322736.py:1: DtypeWarning: Columns (5,8,11,15) have mixed types. Specify dtype option on import or set low_memory=False.\n",
      "  data = pd.read_csv('bank_products.csv')\n"
     ]
    }
   ],
   "source": [
    "data = pd.read_csv('bank_products.csv')\n"
   ]
  },
  {
   "cell_type": "code",
   "execution_count": 4,
   "id": "ad48866d",
   "metadata": {},
   "outputs": [
    {
     "data": {
      "text/html": [
       "<div>\n",
       "<style scoped>\n",
       "    .dataframe tbody tr th:only-of-type {\n",
       "        vertical-align: middle;\n",
       "    }\n",
       "\n",
       "    .dataframe tbody tr th {\n",
       "        vertical-align: top;\n",
       "    }\n",
       "\n",
       "    .dataframe thead th {\n",
       "        text-align: right;\n",
       "    }\n",
       "</style>\n",
       "<table border=\"1\" class=\"dataframe\">\n",
       "  <thead>\n",
       "    <tr style=\"text-align: right;\">\n",
       "      <th></th>\n",
       "      <th>fecha_dato</th>\n",
       "      <th>ncodpers</th>\n",
       "      <th>ind_empleado</th>\n",
       "      <th>pais_residencia</th>\n",
       "      <th>sexo</th>\n",
       "      <th>age</th>\n",
       "      <th>fecha_alta</th>\n",
       "      <th>ind_nuevo</th>\n",
       "      <th>antiguedad</th>\n",
       "      <th>indrel</th>\n",
       "      <th>...</th>\n",
       "      <th>ind_hip_fin_ult1</th>\n",
       "      <th>ind_plan_fin_ult1</th>\n",
       "      <th>ind_pres_fin_ult1</th>\n",
       "      <th>ind_reca_fin_ult1</th>\n",
       "      <th>ind_tjcr_fin_ult1</th>\n",
       "      <th>ind_valo_fin_ult1</th>\n",
       "      <th>ind_viv_fin_ult1</th>\n",
       "      <th>ind_nomina_ult1</th>\n",
       "      <th>ind_nom_pens_ult1</th>\n",
       "      <th>ind_recibo_ult1</th>\n",
       "    </tr>\n",
       "  </thead>\n",
       "  <tbody>\n",
       "    <tr>\n",
       "      <th>0</th>\n",
       "      <td>2015-01-28</td>\n",
       "      <td>1375586</td>\n",
       "      <td>N</td>\n",
       "      <td>ES</td>\n",
       "      <td>H</td>\n",
       "      <td>35</td>\n",
       "      <td>2015-01-12</td>\n",
       "      <td>0.0</td>\n",
       "      <td>6</td>\n",
       "      <td>1.0</td>\n",
       "      <td>...</td>\n",
       "      <td>0</td>\n",
       "      <td>0</td>\n",
       "      <td>0</td>\n",
       "      <td>0</td>\n",
       "      <td>0</td>\n",
       "      <td>0</td>\n",
       "      <td>0</td>\n",
       "      <td>0.0</td>\n",
       "      <td>0.0</td>\n",
       "      <td>0</td>\n",
       "    </tr>\n",
       "    <tr>\n",
       "      <th>1</th>\n",
       "      <td>2015-01-28</td>\n",
       "      <td>1050611</td>\n",
       "      <td>N</td>\n",
       "      <td>ES</td>\n",
       "      <td>V</td>\n",
       "      <td>23</td>\n",
       "      <td>2012-08-10</td>\n",
       "      <td>0.0</td>\n",
       "      <td>35</td>\n",
       "      <td>1.0</td>\n",
       "      <td>...</td>\n",
       "      <td>0</td>\n",
       "      <td>0</td>\n",
       "      <td>0</td>\n",
       "      <td>0</td>\n",
       "      <td>0</td>\n",
       "      <td>0</td>\n",
       "      <td>0</td>\n",
       "      <td>0.0</td>\n",
       "      <td>0.0</td>\n",
       "      <td>0</td>\n",
       "    </tr>\n",
       "    <tr>\n",
       "      <th>2</th>\n",
       "      <td>2015-01-28</td>\n",
       "      <td>1050612</td>\n",
       "      <td>N</td>\n",
       "      <td>ES</td>\n",
       "      <td>V</td>\n",
       "      <td>23</td>\n",
       "      <td>2012-08-10</td>\n",
       "      <td>0.0</td>\n",
       "      <td>35</td>\n",
       "      <td>1.0</td>\n",
       "      <td>...</td>\n",
       "      <td>0</td>\n",
       "      <td>0</td>\n",
       "      <td>0</td>\n",
       "      <td>0</td>\n",
       "      <td>0</td>\n",
       "      <td>0</td>\n",
       "      <td>0</td>\n",
       "      <td>0.0</td>\n",
       "      <td>0.0</td>\n",
       "      <td>0</td>\n",
       "    </tr>\n",
       "    <tr>\n",
       "      <th>3</th>\n",
       "      <td>2015-01-28</td>\n",
       "      <td>1050613</td>\n",
       "      <td>N</td>\n",
       "      <td>ES</td>\n",
       "      <td>H</td>\n",
       "      <td>22</td>\n",
       "      <td>2012-08-10</td>\n",
       "      <td>0.0</td>\n",
       "      <td>35</td>\n",
       "      <td>1.0</td>\n",
       "      <td>...</td>\n",
       "      <td>0</td>\n",
       "      <td>0</td>\n",
       "      <td>0</td>\n",
       "      <td>0</td>\n",
       "      <td>0</td>\n",
       "      <td>0</td>\n",
       "      <td>0</td>\n",
       "      <td>0.0</td>\n",
       "      <td>0.0</td>\n",
       "      <td>0</td>\n",
       "    </tr>\n",
       "    <tr>\n",
       "      <th>4</th>\n",
       "      <td>2015-01-28</td>\n",
       "      <td>1050614</td>\n",
       "      <td>N</td>\n",
       "      <td>ES</td>\n",
       "      <td>V</td>\n",
       "      <td>23</td>\n",
       "      <td>2012-08-10</td>\n",
       "      <td>0.0</td>\n",
       "      <td>35</td>\n",
       "      <td>1.0</td>\n",
       "      <td>...</td>\n",
       "      <td>0</td>\n",
       "      <td>0</td>\n",
       "      <td>0</td>\n",
       "      <td>0</td>\n",
       "      <td>0</td>\n",
       "      <td>0</td>\n",
       "      <td>0</td>\n",
       "      <td>0.0</td>\n",
       "      <td>0.0</td>\n",
       "      <td>0</td>\n",
       "    </tr>\n",
       "  </tbody>\n",
       "</table>\n",
       "<p>5 rows × 48 columns</p>\n",
       "</div>"
      ],
      "text/plain": [
       "   fecha_dato  ncodpers ind_empleado pais_residencia sexo  age  fecha_alta   \n",
       "0  2015-01-28   1375586            N              ES    H   35  2015-01-12  \\\n",
       "1  2015-01-28   1050611            N              ES    V   23  2012-08-10   \n",
       "2  2015-01-28   1050612            N              ES    V   23  2012-08-10   \n",
       "3  2015-01-28   1050613            N              ES    H   22  2012-08-10   \n",
       "4  2015-01-28   1050614            N              ES    V   23  2012-08-10   \n",
       "\n",
       "   ind_nuevo antiguedad  indrel  ... ind_hip_fin_ult1 ind_plan_fin_ult1   \n",
       "0        0.0          6     1.0  ...                0                 0  \\\n",
       "1        0.0         35     1.0  ...                0                 0   \n",
       "2        0.0         35     1.0  ...                0                 0   \n",
       "3        0.0         35     1.0  ...                0                 0   \n",
       "4        0.0         35     1.0  ...                0                 0   \n",
       "\n",
       "  ind_pres_fin_ult1 ind_reca_fin_ult1 ind_tjcr_fin_ult1 ind_valo_fin_ult1   \n",
       "0                 0                 0                 0                 0  \\\n",
       "1                 0                 0                 0                 0   \n",
       "2                 0                 0                 0                 0   \n",
       "3                 0                 0                 0                 0   \n",
       "4                 0                 0                 0                 0   \n",
       "\n",
       "  ind_viv_fin_ult1 ind_nomina_ult1  ind_nom_pens_ult1  ind_recibo_ult1  \n",
       "0                0             0.0                0.0                0  \n",
       "1                0             0.0                0.0                0  \n",
       "2                0             0.0                0.0                0  \n",
       "3                0             0.0                0.0                0  \n",
       "4                0             0.0                0.0                0  \n",
       "\n",
       "[5 rows x 48 columns]"
      ]
     },
     "execution_count": 4,
     "metadata": {},
     "output_type": "execute_result"
    }
   ],
   "source": [
    "data.head()\n"
   ]
  },
  {
   "cell_type": "code",
   "execution_count": 5,
   "id": "a3b4b832",
   "metadata": {},
   "outputs": [
    {
     "data": {
      "text/plain": [
       "fecha_dato                object\n",
       "ncodpers                   int64\n",
       "ind_empleado              object\n",
       "pais_residencia           object\n",
       "sexo                      object\n",
       "age                       object\n",
       "fecha_alta                object\n",
       "ind_nuevo                float64\n",
       "antiguedad                object\n",
       "indrel                   float64\n",
       "ult_fec_cli_1t            object\n",
       "indrel_1mes               object\n",
       "tiprel_1mes               object\n",
       "indresi                   object\n",
       "indext                    object\n",
       "conyuemp                  object\n",
       "canal_entrada             object\n",
       "indfall                   object\n",
       "tipodom                  float64\n",
       "cod_prov                 float64\n",
       "nomprov                   object\n",
       "ind_actividad_cliente    float64\n",
       "renta                    float64\n",
       "segmento                  object\n",
       "ind_ahor_fin_ult1          int64\n",
       "ind_aval_fin_ult1          int64\n",
       "ind_cco_fin_ult1           int64\n",
       "ind_cder_fin_ult1          int64\n",
       "ind_cno_fin_ult1           int64\n",
       "ind_ctju_fin_ult1          int64\n",
       "ind_ctma_fin_ult1          int64\n",
       "ind_ctop_fin_ult1          int64\n",
       "ind_ctpp_fin_ult1          int64\n",
       "ind_deco_fin_ult1          int64\n",
       "ind_deme_fin_ult1          int64\n",
       "ind_dela_fin_ult1          int64\n",
       "ind_ecue_fin_ult1          int64\n",
       "ind_fond_fin_ult1          int64\n",
       "ind_hip_fin_ult1           int64\n",
       "ind_plan_fin_ult1          int64\n",
       "ind_pres_fin_ult1          int64\n",
       "ind_reca_fin_ult1          int64\n",
       "ind_tjcr_fin_ult1          int64\n",
       "ind_valo_fin_ult1          int64\n",
       "ind_viv_fin_ult1           int64\n",
       "ind_nomina_ult1          float64\n",
       "ind_nom_pens_ult1        float64\n",
       "ind_recibo_ult1            int64\n",
       "dtype: object"
      ]
     },
     "execution_count": 5,
     "metadata": {},
     "output_type": "execute_result"
    }
   ],
   "source": [
    "data.dtypes\n"
   ]
  },
  {
   "cell_type": "markdown",
   "id": "ebadbc73",
   "metadata": {},
   "source": [
    "## Сохранение данных в БД\n"
   ]
  },
  {
   "cell_type": "code",
   "execution_count": null,
   "id": "edcd8091",
   "metadata": {},
   "outputs": [],
   "source": [
    "\n"
   ]
  },
  {
   "cell_type": "code",
   "execution_count": null,
   "id": "70d3c646",
   "metadata": {},
   "outputs": [],
   "source": [
    "col_types = {}\n",
    "for el in data.dtypes.items():\n",
    "    if el[1] == 'object':\n",
    "        col_types[el[0]] = String\n",
    "    elif el[1] == 'float64':\n",
    "        col_types[el[0]] = Float\n",
    "    elif el[1] == 'int64':\n",
    "        col_types[el[0]] = Integer\n"
   ]
  },
  {
   "cell_type": "code",
   "execution_count": null,
   "id": "ff7ffa64",
   "metadata": {},
   "outputs": [],
   "source": [
    "data['fecha_dato'] = pd.to_datetime(data['fecha_dato'])"
   ]
  },
  {
   "cell_type": "code",
   "execution_count": null,
   "id": "667c05e7",
   "metadata": {},
   "outputs": [],
   "source": [
    "engine = create_engine(f'postgresql://{DB_DESTINATION_USER}:{DB_DESTINATION_PASSWORD}@{DB_DESTINATION_HOST}:{DB_DESTINATION_PORT}/{DB_DESTINATION_NAME}')\n",
    "\n",
    "metadata = MetaData()\n",
    "bank_products = Table(\n",
    "    'bank_products',\n",
    "    metadata,\n",
    "    Column('id', Integer, primary_key=True, autoincrement=True),\n",
    "    *[Column(el[0], el[1]) for el in col_types.items() if el[0] != 'fecha_dato'],\n",
    "    Column('fecha_dato', DateTime)\n",
    ")\n",
    "Index('idx_fecha_dato', bank_products.c.fecha_dato)\n",
    "\n",
    "# ИСПРАВЛЕННЫЙ КОД: используем engine вместо conn для создания таблицы\n",
    "with engine.connect() as conn:\n",
    "    if not inspect(engine).has_table(bank_products.name): \n",
    "        metadata.create_all(engine)  # Используем engine для автоматического коммита\n",
    "        print(f\"Таблица {bank_products.name} успешно создана\")\n",
    "    else:\n",
    "        print(f\"Таблица {bank_products.name} уже существует\")\n"
   ]
  },
  {
   "cell_type": "code",
   "execution_count": null,
   "id": "dd870d0c",
   "metadata": {},
   "outputs": [],
   "source": [
    "# Проверка существования таблицы\n",
    "with engine.connect() as conn:\n",
    "    if not inspect(engine).has_table(bank_products.name): \n",
    "        print('Table does not exist')\n",
    "    else:\n",
    "        print('Table exists')\n"
   ]
  },
  {
   "cell_type": "code",
   "execution_count": null,
   "id": "7f84b34d",
   "metadata": {},
   "outputs": [],
   "source": [
    "data.shape\n"
   ]
  },
  {
   "cell_type": "code",
   "execution_count": null,
   "id": "d41a7a4b",
   "metadata": {},
   "outputs": [],
   "source": [
    "csv_buffer = io.StringIO()\n",
    "data.to_csv(csv_buffer, index=False, header=True)\n",
    "csv_buffer.seek(0)  # Перемотка в начало для чтения\n",
    "\n",
    "conn = engine.raw_connection()\n",
    "try:\n",
    "    cur = conn.cursor()\n",
    "    try:\n",
    "        # with open(tmp_path, \"r\", encoding=\"utf-8\") as f:\n",
    "        \n",
    "        cur.copy_expert(f\"COPY {bank_products.name} ({', '.join(data.columns)}) FROM STDIN WITH CSV HEADER\", csv_buffer)\n",
    "        conn.commit()\n",
    "    except Exception as e:\n",
    "        conn.rollback()\n",
    "        print(f\"Ошибка при добавлении транзакций в базу данных через COPY: {str(e)}\")\n",
    "        raise\n",
    "    finally:\n",
    "        cur.close()\n",
    "finally:\n",
    "    conn.close()\n"
   ]
  },
  {
   "cell_type": "markdown",
   "id": "acd00846",
   "metadata": {},
   "source": [
    "## Preprocessing\n"
   ]
  },
  {
   "cell_type": "markdown",
   "id": "d79168bf",
   "metadata": {},
   "source": [
    "### Обработка пропусков\n"
   ]
  },
  {
   "cell_type": "code",
   "execution_count": 4,
   "id": "b0f35e62",
   "metadata": {},
   "outputs": [],
   "source": [
    "engine = create_engine(f'postgresql://{DB_DESTINATION_USER}:{DB_DESTINATION_PASSWORD}@{DB_DESTINATION_HOST}:{DB_DESTINATION_PORT}/{DB_DESTINATION_NAME}')\n"
   ]
  },
  {
   "cell_type": "code",
   "execution_count": 21,
   "id": "ab6c420e",
   "metadata": {},
   "outputs": [
    {
     "name": "stdout",
     "output_type": "stream",
     "text": [
      "1 of 5\n",
      "2 of 5\n",
      "3 of 5\n",
      "4 of 5\n"
     ]
    }
   ],
   "source": [
    "data = []\n",
    "\n",
    "\n",
    "with engine.connect() as conn:\n",
    "    min_date = pd.read_sql_query('select min(fecha_dato) from bank_products', conn)\n",
    "    max_date = pd.read_sql_query('select max(fecha_dato) from bank_products', conn)\n",
    "dates = pd.date_range(start=min_date.values[0][0], end=max_date.values[0][0], periods=5)\n",
    "\n",
    "with engine.connect() as conn:\n",
    "    for i in range(1,len(dates)):\n",
    "        date_start = dates[i-1].strftime('%Y-%m-%d')\n",
    "        date_end = dates[i].strftime('%Y-%m-%d')\n",
    "        data_part = pd.read_sql_query(f\"select * from bank_products where fecha_dato between '{date_start}' and '{date_end}'\", conn)\n",
    "        data.append(data_part)\n",
    "        print(f'{i} of {len(dates)}')\n",
    "\n",
    "data = pd.concat(data)\n"
   ]
  },
  {
   "cell_type": "code",
   "execution_count": 23,
   "id": "ba90ba7f",
   "metadata": {},
   "outputs": [],
   "source": [
    "del data_part"
   ]
  },
  {
   "cell_type": "code",
   "execution_count": 24,
   "id": "08a6d625",
   "metadata": {},
   "outputs": [
    {
     "data": {
      "text/plain": [
       "id                       0.000000\n",
       "ncodpers                 0.000000\n",
       "ind_empleado             0.001911\n",
       "pais_residencia          0.001911\n",
       "sexo                     0.001916\n",
       "age                      0.000000\n",
       "fecha_alta               0.001911\n",
       "ind_nuevo                0.001911\n",
       "antiguedad               0.000000\n",
       "indrel                   0.001911\n",
       "ult_fec_cli_1t           0.998172\n",
       "indrel_1mes              0.011877\n",
       "tiprel_1mes              0.011877\n",
       "indresi                  0.001911\n",
       "indext                   0.001911\n",
       "conyuemp                 0.999867\n",
       "canal_entrada            0.014585\n",
       "indfall                  0.001911\n",
       "tipodom                  0.001911\n",
       "cod_prov                 0.006723\n",
       "nomprov                  0.006723\n",
       "ind_actividad_cliente    0.001911\n",
       "renta                    0.203297\n",
       "segmento                 0.014829\n",
       "ind_ahor_fin_ult1        0.000000\n",
       "ind_aval_fin_ult1        0.000000\n",
       "ind_cco_fin_ult1         0.000000\n",
       "ind_cder_fin_ult1        0.000000\n",
       "ind_cno_fin_ult1         0.000000\n",
       "ind_ctju_fin_ult1        0.000000\n",
       "ind_ctma_fin_ult1        0.000000\n",
       "ind_ctop_fin_ult1        0.000000\n",
       "ind_ctpp_fin_ult1        0.000000\n",
       "ind_deco_fin_ult1        0.000000\n",
       "ind_deme_fin_ult1        0.000000\n",
       "ind_dela_fin_ult1        0.000000\n",
       "ind_ecue_fin_ult1        0.000000\n",
       "ind_fond_fin_ult1        0.000000\n",
       "ind_hip_fin_ult1         0.000000\n",
       "ind_plan_fin_ult1        0.000000\n",
       "ind_pres_fin_ult1        0.000000\n",
       "ind_reca_fin_ult1        0.000000\n",
       "ind_tjcr_fin_ult1        0.000000\n",
       "ind_valo_fin_ult1        0.000000\n",
       "ind_viv_fin_ult1         0.000000\n",
       "ind_nomina_ult1          0.001107\n",
       "ind_nom_pens_ult1        0.001107\n",
       "ind_recibo_ult1          0.000000\n",
       "fecha_dato               0.000000\n",
       "dtype: float64"
      ]
     },
     "execution_count": 24,
     "metadata": {},
     "output_type": "execute_result"
    }
   ],
   "source": [
    "data.isna().sum() / data.shape[0]\n"
   ]
  },
  {
   "cell_type": "markdown",
   "id": "3dd559e3",
   "metadata": {},
   "source": [
    "Наибольшая доля пропусков у фичей: **ult_fec_cli_1t и conyuemp**  \n",
    "**ult_fec_cli_1t** - последняя дата, когда клиент был премиальным. Можно трансформировать фичу в количество дней с даты, когда клиент был премиальным, тогда для текущих премиальных клиентов данная фича будет равна нулю.  \n",
    "**conyuemp** - 1, если клиент супруг(а) работника. Можно заполнить пропуски нулями.\n"
   ]
  },
  {
   "cell_type": "code",
   "execution_count": null,
   "id": "a837f7f8",
   "metadata": {},
   "outputs": [],
   "source": [
    "data['days_from_premium'] = data['ult_fec_cli_1t'].apply(lambda x: dt.today() - pd.to_datetime(x) if not pd.isna(x) else x)\n"
   ]
  },
  {
   "cell_type": "code",
   "execution_count": null,
   "id": "a3eae697",
   "metadata": {},
   "outputs": [],
   "source": [
    "data[data['days_from_premium'].notna()]['days_from_premium'].describe()\n"
   ]
  },
  {
   "cell_type": "code",
   "execution_count": null,
   "id": "d72e8f9e",
   "metadata": {},
   "outputs": [],
   "source": [
    "data['days_from_premium'] = data.apply(lambda x: 0 if x['indrel_1mes'] == 1 else x['days_from_premium'], axis=1)\n"
   ]
  },
  {
   "cell_type": "code",
   "execution_count": null,
   "id": "1f1b3853",
   "metadata": {},
   "outputs": [],
   "source": [
    "data['conyuemp'].fillna(0, inplace=True)\n"
   ]
  },
  {
   "cell_type": "code",
   "execution_count": null,
   "id": "b7b66c64",
   "metadata": {},
   "outputs": [],
   "source": [
    "data.isna().sum()\n"
   ]
  },
  {
   "cell_type": "code",
   "execution_count": null,
   "id": "b10f4b63",
   "metadata": {},
   "outputs": [],
   "source": [
    "data['fecha_dato'] = pd.to_datetime(data['fecha_dato'])\n"
   ]
  },
  {
   "cell_type": "code",
   "execution_count": null,
   "id": "7cc1c723",
   "metadata": {},
   "outputs": [],
   "source": [
    "data.rename(columns={\"fecha_dato\":\"div_data\", \"ncodpers\": \"client_id\", \"ind_empleado\": \"empl_status\", \"pais_residencia\": \"country\",\n",
    "                     \"sexo\": \"sex\", \"fecha_alta\": \"first_contract_date\", \"ind_nuevo\": \"is_last_6m_contract\", \"antiguedad\": \"work_expirience\",\n",
    "                     \"indrel\": \"is_new_client\", \"ult_fec_cli_1t\": \"last_premium_date\", \"indrel_1mes\": \"client_type\",\n",
    "                     \"tiprel_1mes\": \"activity_type\", \"indresi\": \"is_resident\", \"indext\": \"not_resident\", \"conyuemp\": \"has_bank_spouse\",\n",
    "                     \"canal_entrada\": \"acquisition_channel\", \"indfall\": \"is_acc_actual\", \"tipodom\": \"adress_type\",\n",
    "                     \"cod_prov\": \"region\", \"nomprov\": \"region_name\", \"ind_actividad_cliente\": \"is_active\", \"renta\": \"income\",\n",
    "                     \"segmento\": \"segment\",\n",
    "                     \"ind_ahor_fin_ult1\": \"acc_savings\",\n",
    "                     \"ind_aval_fin_ult1\": \"acc_garant\",\n",
    "                     \"ind_cco_fin_ult1\": \"acc_current\",\n",
    "                     \"ind_cder_fin_ult1\": \"acc_derivative\",\n",
    "                     \"ind_cno_fin_ult1\": \"acc_salary\",\n",
    "                     \"ind_ctju_fin_ult1\": \"acc_child\",\n",
    "                     \"ind_ctop_fin_ult1\": \"acc_spec1\",        \n",
    "                     \"ind_ctma_fin_ult1\": \"acc_spec3\",\n",
    "                     \"ind_ctpp_fin_ult1\": \"acc_spec2\",\n",
    "                     \"ind_deco_fin_ult1\": \"acc_short_deposit\",\n",
    "                    \"ind_deme_fin_ult1\": \"acc_middle_deposit\",\n",
    "                    \"ind_dela_fin_ult1\": \"acc_long_deposit\",\n",
    "                    \"ind_ecue_fin_ult1\": \"acc_digital\",\n",
    "                    \"ind_fond_fin_ult1\": \"acc_cash\",\n",
    "                    \"ind_hip_fin_ult1\": \"acc_mortgage\",\n",
    "                    \"ind_plan_fin_ult1\": \"acc_pension\",\n",
    "                    \"ind_pres_fin_ult1\": \"acc_credit\",\n",
    "                    \"ind_reca_fin_ult1\": \"acc_tax\",\n",
    "                    \"ind_tjcr_fin_ult1\": \"acc_credit_cart\",\n",
    "                    \"ind_valo_fin_ult1\": \"acc_securities\",\n",
    "                    \"ind_viv_fin_ult1\": \"acc_home\",\n",
    "                    \"ind_nomina_ult1\": \"acc_salary_payment\",\n",
    "                    \"ind_nom_pens_ult1\": \"acc_pension_loans\",\n",
    "                    \"ind_recibo_ult1\": \"acc_debit\"}, inplace=True)\n"
   ]
  },
  {
   "cell_type": "code",
   "execution_count": null,
   "id": "cc4a7412",
   "metadata": {},
   "outputs": [],
   "source": [
    "data['income'].fillna(np.nanmedian(data['income']), inplace=True)\n"
   ]
  },
  {
   "cell_type": "code",
   "execution_count": null,
   "id": "b804e64d",
   "metadata": {},
   "outputs": [],
   "source": [
    "data[data['sex'].isna()].isna().sum()\n"
   ]
  },
  {
   "cell_type": "markdown",
   "id": "ee54193b",
   "metadata": {},
   "source": [
    "Клиенты с незаполненным атрибутом sex имеют много пропусков, такие данные можно удалить\n"
   ]
  },
  {
   "cell_type": "code",
   "execution_count": null,
   "id": "69148ee5",
   "metadata": {},
   "outputs": [],
   "source": [
    "data = data[data['sex'].notna()]\n"
   ]
  },
  {
   "cell_type": "code",
   "execution_count": null,
   "id": "bbbb167d",
   "metadata": {},
   "outputs": [],
   "source": [
    "data['activity_type'].fillna('P', inplace=True)\n"
   ]
  },
  {
   "cell_type": "code",
   "execution_count": null,
   "id": "143033a5",
   "metadata": {},
   "outputs": [],
   "source": [
    "data['acquisition_channel'].fillna('other', inplace=True)\n"
   ]
  },
  {
   "cell_type": "code",
   "execution_count": null,
   "id": "36e93449",
   "metadata": {},
   "outputs": [],
   "source": [
    "data['region'].fillna(0, inplace=True)\n",
    "data['region_name'].fillna('NO_DATA', inplace=True)\n",
    "data['segment'].fillna('00 - NO SEGMENT', inplace=True)\n",
    "data['acc_salary_payment'] = data['acc_salary_payment'].fillna(0).astype(int)\n",
    "data['acc_pension_loans'] = data['acc_pension_loans'].fillna(0).astype(int)\n"
   ]
  },
  {
   "cell_type": "code",
   "execution_count": null,
   "id": "80336cb5",
   "metadata": {},
   "outputs": [],
   "source": [
    "data['work_expirience'].replace(-999999, 0, inplace=True)\n",
    "data['is_new_client'].replace(99, 0, inplace=True)\n"
   ]
  },
  {
   "cell_type": "markdown",
   "id": "4c49b8a7",
   "metadata": {},
   "source": [
    "### Определение типов данных\n"
   ]
  },
  {
   "cell_type": "code",
   "execution_count": null,
   "id": "c9e5feed",
   "metadata": {},
   "outputs": [],
   "source": [
    "data['age'] = data['age'].astype('int')\n",
    "data['work_expirience'] = data['work_expirience'].astype('int')\n",
    "data['client_type'] = data['client_type'].astype(str)\n",
    "data['has_bank_spouse'] = data['has_bank_spouse'].astype(str)\n"
   ]
  },
  {
   "cell_type": "code",
   "execution_count": null,
   "id": "c2dca07a",
   "metadata": {},
   "outputs": [],
   "source": [
    "# представляем days_from_premium в вид int\n",
    "data['days_from_premium'] = data['days_from_premium'].apply(lambda x: x.days if not pd.isna(x) and x != 0 else x)\n",
    "\n",
    "data['days_from_first_contract'] = dt.today() - pd.to_datetime(data['first_contract_date'])\n",
    "data['days_from_first_contract'] = data['days_from_first_contract'].apply(lambda x: x.days)\n"
   ]
  },
  {
   "cell_type": "code",
   "execution_count": null,
   "id": "cf1157b4",
   "metadata": {},
   "outputs": [],
   "source": [
    "data['has_bank_spouse'] = data['has_bank_spouse'].map({'S': 1, 'N': 0}).fillna(0)\n",
    "data['is_acc_actual'] = data['is_acc_actual'].map({'S': 1, 'N': 0}).fillna(0)\n",
    "data['is_resident'] = data['is_resident'].map({'S': 1, 'N': 0}).fillna(0)\n",
    "data['is_male'] = data['sex'].map({'V': 1, 'H': 0}).astype(int)\n"
   ]
  },
  {
   "cell_type": "code",
   "execution_count": null,
   "id": "cf4bee8c",
   "metadata": {},
   "outputs": [],
   "source": [
    "data['has_bank_spouse'] = data['has_bank_spouse'].astype(int)\n",
    "data['is_resident'] = data['is_resident'].astype(int)\n",
    "data['is_acc_actual'] = data['is_acc_actual'].astype(int)\n",
    "data['is_last_6m_contract'] = data['is_last_6m_contract'].astype(int)\n",
    "data['is_new_client'] = data['is_new_client'].astype(int)\n",
    "data['is_active'] = data['is_active'].astype(int)\n"
   ]
  },
  {
   "cell_type": "code",
   "execution_count": null,
   "id": "e65bbabe",
   "metadata": {},
   "outputs": [],
   "source": [
    "data.drop(columns=['last_premium_date', 'first_contract_date', 'sex', 'not_resident', 'adress_type', 'region_name'], inplace=True)\n"
   ]
  },
  {
   "cell_type": "code",
   "execution_count": null,
   "id": "aa9959d4",
   "metadata": {},
   "outputs": [],
   "source": [
    "data.to_parquet('bank_products_processed.parquet')\n"
   ]
  },
  {
   "cell_type": "markdown",
   "id": "feca4b91",
   "metadata": {},
   "source": [
    "## EDA\n"
   ]
  },
  {
   "cell_type": "code",
   "execution_count": null,
   "id": "a1b7c9b3",
   "metadata": {},
   "outputs": [],
   "source": [
    "# запускаем, если нужно\n",
    "data = pd.read_parquet('bank_products_processed.parquet')\n"
   ]
  },
  {
   "cell_type": "code",
   "execution_count": null,
   "id": "e7eeb85c",
   "metadata": {},
   "outputs": [],
   "source": [
    "id_col = ['client_id']\n",
    "num_features = ['age', 'work_expirience', 'income', 'days_from_first_contract', 'days_from_premium']\n",
    "object_features = [el for el in data.select_dtypes(['object']).columns.tolist() if el not in num_features + id_col] + ['region']\n",
    "cat_features = [col for col in data.select_dtypes(['int']).columns.tolist() if col not in num_features + object_features + id_col]\n"
   ]
  },
  {
   "cell_type": "markdown",
   "id": "f53f52e4",
   "metadata": {},
   "source": [
    "### Описательная статистика\n"
   ]
  },
  {
   "cell_type": "code",
   "execution_count": null,
   "id": "f24c022d",
   "metadata": {},
   "outputs": [],
   "source": [
    "for el in object_features:\n",
    "    print(data[el].value_counts(), '\\n')\n"
   ]
  },
  {
   "cell_type": "code",
   "execution_count": null,
   "id": "6d4ca01b",
   "metadata": {},
   "outputs": [],
   "source": [
    "data[num_features].describe()\n"
   ]
  },
  {
   "cell_type": "code",
   "execution_count": null,
   "id": "c73ca134",
   "metadata": {},
   "outputs": [],
   "source": [
    "data[cat_features].sum() / data[cat_features].count()\n"
   ]
  },
  {
   "cell_type": "code",
   "execution_count": null,
   "id": "b40b66a6",
   "metadata": {},
   "outputs": [],
   "source": [
    "target_cols = [col for col in data.columns if col.startswith('acc_')]\n"
   ]
  },
  {
   "cell_type": "markdown",
   "id": "b7602f91",
   "metadata": {},
   "source": [
    "Выводы по разделу:\n",
    "\n",
    "1. Больше половины клиентов имеют текущие счета.\n",
    "2. Только ~46% пользователей - активные.\n",
    "3. Клиента банка в подавляющем большинстве из Испании.\n",
    "4. Средний возраст клиентов - около 40 лет (медиана - 39, ср. арфим. - 40).\n",
    "5. Среднее количество дней с подписания первого договора большое и в среднем.\n",
    "6. Большинство клиентов имеют премиальный статус\n"
   ]
  },
  {
   "cell_type": "markdown",
   "id": "51ffd2e5",
   "metadata": {},
   "source": [
    "### Графики\n"
   ]
  },
  {
   "cell_type": "code",
   "execution_count": null,
   "id": "10d3d576",
   "metadata": {},
   "outputs": [],
   "source": [
    "f,ax = plt.subplots(figsize=(15,20))\n",
    "sns.heatmap(data[cat_features + num_features].corr().loc[[col for col in cat_features + num_features if col not in target_cols], target_cols].T, annot=True, cmap='coolwarm', ax=ax)\n",
    "plt.title('Корреляция между признаками и целевыми переменными')\n",
    "plt.savefig(os.path.join(ASSETS_DIR, 'correlation_cat_num_features.png'))\n",
    "plt.show()\n"
   ]
  },
  {
   "cell_type": "markdown",
   "id": "95b5eeb6",
   "metadata": {},
   "source": [
    "В корреляционной матрице видно, что признаки is_active, age и work_experienc, days_from_first_contract оказывают наиболее значимое влияние на наличие большинства счетов\n"
   ]
  },
  {
   "cell_type": "code",
   "execution_count": null,
   "id": "e526b915",
   "metadata": {},
   "outputs": [],
   "source": [
    "f,ax = plt.subplots(figsize=(20,20))\n",
    "sns.heatmap(data[target_cols].corr(), annot=True, cmap='coolwarm', ax=ax)\n",
    "plt.title('Корреляция между различными счетами')\n",
    "plt.savefig(os.path.join(ASSETS_DIR, 'correlation_target_accounts.png'))\n",
    "plt.show()\n"
   ]
  },
  {
   "cell_type": "code",
   "execution_count": null,
   "id": "34170ffe",
   "metadata": {},
   "outputs": [],
   "source": [
    "data[target_cols].sum(axis=1).describe()\n"
   ]
  },
  {
   "cell_type": "markdown",
   "id": "edb03903",
   "metadata": {},
   "source": [
    "Наиболее значимая корреляция прослеживается:  \n",
    "1) между acc_salary_payment и acc_pension_loans, это связано с тем, что клиент с наличием зарплатных обязательств скорее всего имеет и пенсионные обязательства перед работниками, поэтому заводит второй счет;\n",
    "2) аналогичная логика справедлива и для связки acc_salary с признаками acc_salary_payment, acc_pension_loans;\n",
    "3) отрицательная корреляция данных показателей с acc_current связана с тем, что клиенты, использующие продукты банка для получения зарплаты, реже заводят дополнительно текущий счет, т.к. все средства находятся на зарплатном счете.\n"
   ]
  },
  {
   "cell_type": "code",
   "execution_count": null,
   "id": "c519c545",
   "metadata": {},
   "outputs": [],
   "source": [
    "num_features\n"
   ]
  },
  {
   "cell_type": "code",
   "execution_count": null,
   "id": "e0b76e7b",
   "metadata": {},
   "outputs": [],
   "source": [
    "f, axes = plt.subplots(1, 4, figsize=(60, 40))\n",
    "\n",
    "sns.boxplot(data=data, x='is_active', y='age', ax=axes[0])\n",
    "sns.boxplot(data=data, x='is_active', y='work_expirience', ax=axes[1])\n",
    "sns.boxplot(data=data, x='is_active', y='income', ax=axes[2])\n",
    "sns.boxplot(data=data, x='is_active', y='days_from_first_contract', ax=axes[3])\n",
    "\n",
    "for ax in axes:\n",
    "    ax.set_xlabel(ax.get_xlabel(), fontsize=40)\n",
    "    ax.set_ylabel(ax.get_ylabel(), fontsize=40)\n",
    "    ax.tick_params(axis='both', which='major', labelsize=40)\n",
    "\n",
    "plt.tight_layout()\n",
    "plt.savefig(os.path.join(ASSETS_DIR, 'boxplot_is_active.png'))\n",
    "plt.show()\n"
   ]
  },
  {
   "cell_type": "markdown",
   "id": "be746a11",
   "metadata": {},
   "source": [
    "### Генерация признаков\n"
   ]
  },
  {
   "cell_type": "code",
   "execution_count": null,
   "id": "3824017c",
   "metadata": {},
   "outputs": [],
   "source": [
    "south_regions = [10, 45, 16, 46, 7, 12, 6, 13, 2, 3, 21, 41, 14, 23, 18, 30, 4, 11, 29, 52, 38, 35]\n"
   ]
  },
  {
   "cell_type": "code",
   "execution_count": null,
   "id": "37090c50",
   "metadata": {},
   "outputs": [],
   "source": [
    "data['is_capital'] = data['region'].apply(lambda x: 1 if x == 28 else 0)\n",
    "data['is_barcelona'] = data['region'].apply(lambda x: 1 if x == 8 else 0)\n",
    "data['is_south'] = data['region'].apply(lambda x: 1 if x in south_regions else 0)\n"
   ]
  },
  {
   "cell_type": "code",
   "execution_count": null,
   "id": "69d1457d",
   "metadata": {},
   "outputs": [],
   "source": [
    "data['acquisition_channel'].value_counts(normalize=True)\n"
   ]
  },
  {
   "cell_type": "code",
   "execution_count": null,
   "id": "40f19c5e",
   "metadata": {},
   "outputs": [],
   "source": [
    "data['is_KHE'] = data['acquisition_channel'].apply(lambda x: 1 if x == 'KHE' else 0)\n",
    "data['is_KAT'] = data['acquisition_channel'].apply(lambda x: 1 if x == 'KAT' else 0)\n",
    "data['is_KFC'] = data['acquisition_channel'].apply(lambda x: 1 if x == 'KFC' else 0)\n"
   ]
  },
  {
   "cell_type": "code",
   "execution_count": null,
   "id": "f364fa7b",
   "metadata": {},
   "outputs": [],
   "source": [
    "data['empl_status'] = data['empl_status'].apply(lambda x: 1 if x in ['A', 'F'] else 0)\n",
    "data['vip_status'] = data['segment'].apply(lambda x: 1 if x == '01 - TOP' else 0)\n",
    "data['potential_client'] = data['activity_type'].apply(lambda x: 1 if x == 'R' else 0)\n"
   ]
  },
  {
   "cell_type": "code",
   "execution_count": null,
   "id": "c90aff16",
   "metadata": {},
   "outputs": [],
   "source": [
    "data['segment'].value_counts()\n"
   ]
  },
  {
   "cell_type": "code",
   "execution_count": null,
   "id": "bd88e904",
   "metadata": {},
   "outputs": [],
   "source": [
    "object_features = ['empl_status', 'vip_status', 'potential_client', 'is_KHE', 'is_KAT', 'is_KFC', 'is_capital',\n",
    "                   'is_barcelona', 'is_south']\n"
   ]
  },
  {
   "cell_type": "code",
   "execution_count": null,
   "id": "a88af0e2",
   "metadata": {},
   "outputs": [],
   "source": [
    "f,ax = plt.subplots(figsize=(15,20))\n",
    "sns.heatmap(data[object_features + target_cols].corr().loc[[col for col in object_features if col not in target_cols], target_cols].T, annot=True, cmap='coolwarm', ax=ax)\n",
    "plt.title('Корреляция между признаками и целевыми переменными')\n",
    "plt.savefig(os.path.join(ASSETS_DIR, 'correlation_object_features.png'))\n",
    "plt.show()\n"
   ]
  },
  {
   "cell_type": "code",
   "execution_count": null,
   "id": "eca60f75",
   "metadata": {},
   "outputs": [],
   "source": [
    "data['acquisition_channel'].unique()\n"
   ]
  },
  {
   "cell_type": "markdown",
   "id": "348ca47e",
   "metadata": {},
   "source": [
    "Выводы по разделу:\n",
    "\n",
    "1. Наличие ВИП статуса оказывает сильное влияние на факт наличия большинства банковских продуктов\n",
    "2. Привлечение клиентов через KHE (через внешних партнеров) и KAT (телефонные звонки) также влияют на покупку тех или иных продуктов. Так, привлечение через KHE коррелирует с наличием текущего счета, т.е. клиенты, пришедщие через внешних партнеров банка замотивированы на заведение текущего счета. Привлечение через телефонные звонки чаще мотивирует людей заводить в банке особый счет первого типа. Без понимания особенностей особого счета сложно оценить взаимосвязь.\n",
    "3. Наличие связи между is_capital и acc_current свидетельствует о том, что клиенты Мадрида реже заводят текущий счет в банке, чаще отдается предпочтение специализированным счетам.\n"
   ]
  },
  {
   "cell_type": "markdown",
   "id": "2884cf55",
   "metadata": {},
   "source": [
    "## Логирование в MLFlow\n"
   ]
  },
  {
   "cell_type": "code",
   "execution_count": null,
   "id": "bf021ae4",
   "metadata": {},
   "outputs": [],
   "source": [
    "import mlflow\n"
   ]
  },
  {
   "cell_type": "code",
   "execution_count": null,
   "id": "dcafa205",
   "metadata": {},
   "outputs": [],
   "source": [
    "# константы для логирования в mlflow\n",
    "\n",
    "EXPERIMENT_NAME = \"final_project_bank_alexdem\"\n",
    "\n",
    "\n",
    "os.environ[\"MLFLOW_S3_ENDPOINT_URL\"] = \"https://storage.yandexcloud.net\"\n",
    "os.environ[\"AWS_ACCESS_KEY_ID\"] = os.getenv(\"AWS_ACCESS_KEY_ID\")\n",
    "os.environ[\"AWS_SECRET_ACCESS_KEY\"] = os.getenv(\"AWS_SECRET_ACCESS_KEY\")\n",
    "\n",
    "TRACKING_SERVER_HOST = \"127.0.0.1\"\n",
    "TRACKING_SERVER_PORT = 5020\n",
    "\n",
    "mlflow.set_tracking_uri(f\"http://{TRACKING_SERVER_HOST}:{TRACKING_SERVER_PORT}\")\n",
    "mlflow.set_registry_uri(f\"http://{TRACKING_SERVER_HOST}:{TRACKING_SERVER_PORT}\")\n"
   ]
  },
  {
   "cell_type": "code",
   "execution_count": null,
   "id": "ba2c5b0a",
   "metadata": {},
   "outputs": [],
   "source": [
    "experiment = mlflow.get_experiment_by_name(EXPERIMENT_NAME)\n",
    "\n",
    "if experiment is None:\n",
    "    experiment_id = mlflow.create_experiment(EXPERIMENT_NAME)\n",
    "else:\n",
    "    experiment_id = experiment.experiment_id\n"
   ]
  },
  {
   "cell_type": "code",
   "execution_count": null,
   "id": "20c85f14",
   "metadata": {},
   "outputs": [],
   "source": [
    "experiment_id = mlflow.get_experiment_by_name(EXPERIMENT_NAME).experiment_id\n",
    "RUN_NAME = \"eda\"\n",
    "\n",
    "with mlflow.start_run(run_name=RUN_NAME, experiment_id=experiment_id) as run:\n",
    "    run_id = run.info.run_id\n",
    "    \n",
    "    mlflow.log_artifact(\"EDA.ipynb\")\n",
    "    mlflow.log_artifacts(ASSETS_DIR)\n"
   ]
  },
  {
   "cell_type": "markdown",
   "id": "da86450b",
   "metadata": {},
   "source": [
    "## Сохранение результатов\n"
   ]
  },
  {
   "cell_type": "code",
   "execution_count": null,
   "id": "7f52e694",
   "metadata": {},
   "outputs": [],
   "source": [
    "data.columns\n"
   ]
  },
  {
   "cell_type": "code",
   "execution_count": null,
   "id": "21a9262e",
   "metadata": {},
   "outputs": [],
   "source": [
    "cat_features = [col for col in cat_features if col not in target_cols]\n"
   ]
  },
  {
   "cell_type": "code",
   "execution_count": null,
   "id": "6d151458",
   "metadata": {},
   "outputs": [],
   "source": [
    "data[num_features + cat_features + target_cols + object_features + id_col + ['div_data']].to_parquet(\"bank_products_processed.parquet\")\n"
   ]
  }
 ],
 "metadata": {
  "kernelspec": {
   "display_name": ".venv",
   "language": "python",
   "name": "python3"
  },
  "language_info": {
   "codemirror_mode": {
    "name": "ipython",
    "version": 3
   },
   "file_extension": ".py",
   "mimetype": "text/x-python",
   "name": "python",
   "nbconvert_exporter": "python",
   "pygments_lexer": "ipython3",
   "version": "3.10.12"
  }
 },
 "nbformat": 4,
 "nbformat_minor": 5
}
